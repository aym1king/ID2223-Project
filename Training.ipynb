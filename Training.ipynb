{
 "cells": [
  {
   "cell_type": "code",
   "execution_count": 74,
   "id": "063d9a22",
   "metadata": {
    "id": "063d9a22"
   },
   "outputs": [],
   "source": [
    "import pandas as pd\n",
    "from numpy import sort\n",
    "import numpy as np\n",
    "import seaborn as sns\n",
    "from matplotlib import pyplot\n",
    "from hsml.schema import Schema\n",
    "from hsml.model_schema import ModelSchema\n",
    "import joblib\n",
    "import os"
   ]
  },
  {
   "cell_type": "code",
   "execution_count": 100,
   "id": "5ce90341",
   "metadata": {
    "colab": {
     "base_uri": "https://localhost:8080/"
    },
    "id": "5ce90341",
    "outputId": "2539a320-655d-4128-b4c0-3d6f96aad5cc"
   },
   "outputs": [
    {
     "name": "stdout",
     "output_type": "stream",
     "text": [
      "Connection closed.\n",
      "Connected. Call `.close()` to terminate connection gracefully.\n",
      "\n",
      "Logged in to project, explore it here https://c.app.hopsworks.ai:443/p/361623\n",
      "Connected. Call `.close()` to terminate connection gracefully.\n"
     ]
    }
   ],
   "source": [
    "import hopsworks\n",
    "from settings import *\n",
    "project = hopsworks.login(project=SETTINGS[\"FS_PROJECT_NAME\"], api_key_value=SETTINGS[\"FS_API_KEY\"])\n",
    "fs = project.get_feature_store()"
   ]
  },
  {
   "cell_type": "code",
   "execution_count": 76,
   "id": "PLVC-F3_iZKH",
   "metadata": {
    "id": "PLVC-F3_iZKH"
   },
   "outputs": [],
   "source": [
    "# The feature view is the input set of features for your model. The features can come from different feature groups.\n",
    "# You can select features from different feature groups and join them together to create a feature view\n",
    "weather_fg = fs.get_feature_group(name=\"weather\", version=1)\n",
    "lag_fg = fs.get_feature_group(name=\"lagged_demand\", version=1)\n",
    "\n",
    "query = lag_fg.select_all().join(weather_fg.select_all(), on=['settlement_date'])\n",
    "\n",
    "\n",
    "feature_view = fs.get_or_create_feature_view(name=\"lag_demand_and_weather\",\n",
    "                                  version=1,\n",
    "                                  labels=[\"england_wales_demand\"],\n",
    "                                  query=query)"
   ]
  },
  {
   "cell_type": "code",
   "execution_count": 77,
   "id": "359ed7b3",
   "metadata": {
    "id": "359ed7b3"
   },
   "outputs": [],
   "source": [
    "query = weather_fg.select_all()\n",
    "\n",
    "feature_view = fs.get_or_create_feature_view(name=\"weather\",\n",
    "                                  version=1,\n",
    "                                  description=\"Read from weather dataset\",\n",
    "                                  labels=[\"england_wales_demand\"],\n",
    "                                  query=query)"
   ]
  },
  {
   "cell_type": "code",
   "execution_count": 78,
   "id": "42fbcfd3",
   "metadata": {
    "colab": {
     "base_uri": "https://localhost:8080/"
    },
    "id": "42fbcfd3",
    "outputId": "40a94e8c-8441-461f-dc09-d01a8f156ae2"
   },
   "outputs": [
    {
     "name": "stderr",
     "output_type": "stream",
     "text": [
      "DeprecationWarning: ssl.PROTOCOL_TLS is deprecated\n"
     ]
    },
    {
     "name": "stdout",
     "output_type": "stream",
     "text": [
      "Finished: Reading data from Hopsworks, using Hive (4.41s) \n"
     ]
    },
    {
     "name": "stderr",
     "output_type": "stream",
     "text": [
      "VersionWarning: Incremented version to `20`.\n"
     ]
    }
   ],
   "source": [
    "# You can read training data, randomly split into train/test sets of features (X) and labels (y)\n",
    "X1, X2, y1, y2 = feature_view.train_test_split(train_start=\"2009-01-01\", train_end=\"2020-12-01\", test_start=\"2020-12-02\", test_end=\"2023-12-07\")"
   ]
  },
  {
   "cell_type": "code",
   "execution_count": 82,
   "id": "a9c34139-b2ad-428e-82b8-988bdf5b9862",
   "metadata": {
    "id": "a9c34139-b2ad-428e-82b8-988bdf5b9862"
   },
   "outputs": [],
   "source": [
    "def sort_data(Xt, yt):\n",
    "    X = Xt.copy()\n",
    "    y = yt.copy()\n",
    "    y = y.set_index(X['settlement_date']).sort_index()\n",
    "    X.set_index(['settlement_date'], inplace=True)\n",
    "    X.sort_index(inplace=True)\n",
    "    return X, y\n",
    "\n",
    "def add_date_features(Xt, yt):\n",
    "    X = Xt.copy()\n",
    "    y = yt.copy()\n",
    "    X[\"day_of_week\"] = X['settlement_date'].dt.dayofweek\n",
    "    X[\"day_of_year\"] = X['settlement_date'].dt.dayofyear\n",
    "    X[\"month\"] = X['settlement_date'].dt.month\n",
    "    X[\"quarter\"] = X['settlement_date'].dt.quarter\n",
    "    X[\"year\"] = X['settlement_date'].dt.year\n",
    "    return X, y\n",
    "\n",
    "def preprocessing(Xt, yt, Xt2, yt2):\n",
    "\n",
    "    Xt, yt = add_date_features(Xt, yt)\n",
    "    Xt2, yt2 = add_date_features(Xt2, yt2)\n",
    "\n",
    "    Xt, yt = sort_data(Xt, yt)\n",
    "    Xt2, yt2 = sort_data(Xt2, yt2)\n",
    "\n",
    "    X = pd.concat([Xt, Xt2], axis=0)\n",
    "    y = pd.concat([yt, yt2], axis=0)\n",
    "    temps = y['england_wales_demand']\n",
    "\n",
    "    # add lagged features\n",
    "    lagged_demand = pd.concat([temps.shift(7), temps.shift(14), temps.shift(21), temps.shift(28)], axis=1)\n",
    "    lagged_demand = lagged_demand.set_axis(['england_wales_demand_lag7',\n",
    "                                            'england_wales_demand_lag14', 'england_wales_demand_lag21',\n",
    "                                           'england_wales_demand_lag28'], axis=1)\n",
    "    df = pd.concat([lagged_demand, X, y], axis=1)\n",
    "    df.dropna(inplace=True)\n",
    "    #df = pd.concat([X, y], axis=1)\n",
    "\n",
    "    train = df.loc[:'2020-12-01 00:00:00']\n",
    "    test = df.loc['2020-12-02 00:00:00':]\n",
    "    y_train = train['england_wales_demand']\n",
    "    X_train = train.drop(['england_wales_demand'], axis=1)\n",
    "    y_test = test['england_wales_demand']\n",
    "    X_test = test.drop(['england_wales_demand'], axis=1)\n",
    "    return X_train, y_train, X_test, y_test\n"
   ]
  },
  {
   "cell_type": "code",
   "execution_count": 83,
   "id": "31095986-a2c4-4e40-b233-6be44b56c1ea",
   "metadata": {
    "id": "31095986-a2c4-4e40-b233-6be44b56c1ea"
   },
   "outputs": [],
   "source": [
    "X_train, y_train, X_test, y_test = preprocessing(X1, y1, X2, y2)"
   ]
  },
  {
   "cell_type": "code",
   "execution_count": 85,
   "id": "b4f16454-00a9-41cb-8dd7-3c431e55cb4d",
   "metadata": {
    "colab": {
     "base_uri": "https://localhost:8080/"
    },
    "id": "b4f16454-00a9-41cb-8dd7-3c431e55cb4d",
    "outputId": "8729ff75-3997-452d-85c4-2d36c8c8fa96"
   },
   "outputs": [
    {
     "name": "stdout",
     "output_type": "stream",
     "text": [
      "4.2.0\n",
      "2.0.2\n",
      "1.3.0\n"
     ]
    }
   ],
   "source": [
    "import lightgbm\n",
    "import xgboost\n",
    "import sklearn\n",
    "from lightgbm import LGBMRegressor\n",
    "from xgboost import XGBRegressor\n",
    "print(lightgbm.__version__)\n",
    "print(xgboost.__version__)\n",
    "print(sklearn.__version__)"
   ]
  },
  {
   "cell_type": "code",
   "execution_count": 86,
   "id": "5d2318a2-b98d-489f-a4eb-cffca84b908b",
   "metadata": {
    "colab": {
     "base_uri": "https://localhost:8080/",
     "height": 118
    },
    "id": "5d2318a2-b98d-489f-a4eb-cffca84b908b",
    "outputId": "570c0f3b-0241-4863-b5ac-d1ece45aa98f"
   },
   "outputs": [
    {
     "data": {
      "text/html": [
       "<style>#sk-container-id-1 {color: black;}#sk-container-id-1 pre{padding: 0;}#sk-container-id-1 div.sk-toggleable {background-color: white;}#sk-container-id-1 label.sk-toggleable__label {cursor: pointer;display: block;width: 100%;margin-bottom: 0;padding: 0.3em;box-sizing: border-box;text-align: center;}#sk-container-id-1 label.sk-toggleable__label-arrow:before {content: \"▸\";float: left;margin-right: 0.25em;color: #696969;}#sk-container-id-1 label.sk-toggleable__label-arrow:hover:before {color: black;}#sk-container-id-1 div.sk-estimator:hover label.sk-toggleable__label-arrow:before {color: black;}#sk-container-id-1 div.sk-toggleable__content {max-height: 0;max-width: 0;overflow: hidden;text-align: left;background-color: #f0f8ff;}#sk-container-id-1 div.sk-toggleable__content pre {margin: 0.2em;color: black;border-radius: 0.25em;background-color: #f0f8ff;}#sk-container-id-1 input.sk-toggleable__control:checked~div.sk-toggleable__content {max-height: 200px;max-width: 100%;overflow: auto;}#sk-container-id-1 input.sk-toggleable__control:checked~label.sk-toggleable__label-arrow:before {content: \"▾\";}#sk-container-id-1 div.sk-estimator input.sk-toggleable__control:checked~label.sk-toggleable__label {background-color: #d4ebff;}#sk-container-id-1 div.sk-label input.sk-toggleable__control:checked~label.sk-toggleable__label {background-color: #d4ebff;}#sk-container-id-1 input.sk-hidden--visually {border: 0;clip: rect(1px 1px 1px 1px);clip: rect(1px, 1px, 1px, 1px);height: 1px;margin: -1px;overflow: hidden;padding: 0;position: absolute;width: 1px;}#sk-container-id-1 div.sk-estimator {font-family: monospace;background-color: #f0f8ff;border: 1px dotted black;border-radius: 0.25em;box-sizing: border-box;margin-bottom: 0.5em;}#sk-container-id-1 div.sk-estimator:hover {background-color: #d4ebff;}#sk-container-id-1 div.sk-parallel-item::after {content: \"\";width: 100%;border-bottom: 1px solid gray;flex-grow: 1;}#sk-container-id-1 div.sk-label:hover label.sk-toggleable__label {background-color: #d4ebff;}#sk-container-id-1 div.sk-serial::before {content: \"\";position: absolute;border-left: 1px solid gray;box-sizing: border-box;top: 0;bottom: 0;left: 50%;z-index: 0;}#sk-container-id-1 div.sk-serial {display: flex;flex-direction: column;align-items: center;background-color: white;padding-right: 0.2em;padding-left: 0.2em;position: relative;}#sk-container-id-1 div.sk-item {position: relative;z-index: 1;}#sk-container-id-1 div.sk-parallel {display: flex;align-items: stretch;justify-content: center;background-color: white;position: relative;}#sk-container-id-1 div.sk-item::before, #sk-container-id-1 div.sk-parallel-item::before {content: \"\";position: absolute;border-left: 1px solid gray;box-sizing: border-box;top: 0;bottom: 0;left: 50%;z-index: -1;}#sk-container-id-1 div.sk-parallel-item {display: flex;flex-direction: column;z-index: 1;position: relative;background-color: white;}#sk-container-id-1 div.sk-parallel-item:first-child::after {align-self: flex-end;width: 50%;}#sk-container-id-1 div.sk-parallel-item:last-child::after {align-self: flex-start;width: 50%;}#sk-container-id-1 div.sk-parallel-item:only-child::after {width: 0;}#sk-container-id-1 div.sk-dashed-wrapped {border: 1px dashed gray;margin: 0 0.4em 0.5em 0.4em;box-sizing: border-box;padding-bottom: 0.4em;background-color: white;}#sk-container-id-1 div.sk-label label {font-family: monospace;font-weight: bold;display: inline-block;line-height: 1.2em;}#sk-container-id-1 div.sk-label-container {text-align: center;}#sk-container-id-1 div.sk-container {/* jupyter's `normalize.less` sets `[hidden] { display: none; }` but bootstrap.min.css set `[hidden] { display: none !important; }` so we also need the `!important` here to be able to override the default hidden behavior on the sphinx rendered scikit-learn.org. See: https://github.com/scikit-learn/scikit-learn/issues/21755 */display: inline-block !important;position: relative;}#sk-container-id-1 div.sk-text-repr-fallback {display: none;}</style><div id=\"sk-container-id-1\" class=\"sk-top-container\"><div class=\"sk-text-repr-fallback\"><pre>GridSearchCV(cv=TimeSeriesSplit(gap=0, max_train_size=None, n_splits=5, test_size=None),\n",
       "             estimator=XGBRegressor(base_score=None, booster=None,\n",
       "                                    callbacks=None, colsample_bylevel=None,\n",
       "                                    colsample_bynode=None,\n",
       "                                    colsample_bytree=None, device=None,\n",
       "                                    early_stopping_rounds=None,\n",
       "                                    enable_categorical=False, eval_metric=None,\n",
       "                                    feature_types=None, gamma=None,\n",
       "                                    grow_policy=None, imp...\n",
       "                                    max_cat_to_onehot=None, max_delta_step=None,\n",
       "                                    max_depth=None, max_leaves=None,\n",
       "                                    min_child_weight=None, missing=nan,\n",
       "                                    monotone_constraints=None,\n",
       "                                    multi_strategy=None, n_estimators=None,\n",
       "                                    n_jobs=None, num_parallel_tree=None,\n",
       "                                    random_state=42, ...),\n",
       "             param_grid={&#x27;colsample_bytree&#x27;: [0.3], &#x27;learning_rate&#x27;: [0.05],\n",
       "                         &#x27;max_depth&#x27;: [3], &#x27;n_estimators&#x27;: [700]},\n",
       "             scoring=&#x27;neg_mean_squared_error&#x27;)</pre><b>In a Jupyter environment, please rerun this cell to show the HTML representation or trust the notebook. <br />On GitHub, the HTML representation is unable to render, please try loading this page with nbviewer.org.</b></div><div class=\"sk-container\" hidden><div class=\"sk-item sk-dashed-wrapped\"><div class=\"sk-label-container\"><div class=\"sk-label sk-toggleable\"><input class=\"sk-toggleable__control sk-hidden--visually\" id=\"sk-estimator-id-1\" type=\"checkbox\" ><label for=\"sk-estimator-id-1\" class=\"sk-toggleable__label sk-toggleable__label-arrow\">GridSearchCV</label><div class=\"sk-toggleable__content\"><pre>GridSearchCV(cv=TimeSeriesSplit(gap=0, max_train_size=None, n_splits=5, test_size=None),\n",
       "             estimator=XGBRegressor(base_score=None, booster=None,\n",
       "                                    callbacks=None, colsample_bylevel=None,\n",
       "                                    colsample_bynode=None,\n",
       "                                    colsample_bytree=None, device=None,\n",
       "                                    early_stopping_rounds=None,\n",
       "                                    enable_categorical=False, eval_metric=None,\n",
       "                                    feature_types=None, gamma=None,\n",
       "                                    grow_policy=None, imp...\n",
       "                                    max_cat_to_onehot=None, max_delta_step=None,\n",
       "                                    max_depth=None, max_leaves=None,\n",
       "                                    min_child_weight=None, missing=nan,\n",
       "                                    monotone_constraints=None,\n",
       "                                    multi_strategy=None, n_estimators=None,\n",
       "                                    n_jobs=None, num_parallel_tree=None,\n",
       "                                    random_state=42, ...),\n",
       "             param_grid={&#x27;colsample_bytree&#x27;: [0.3], &#x27;learning_rate&#x27;: [0.05],\n",
       "                         &#x27;max_depth&#x27;: [3], &#x27;n_estimators&#x27;: [700]},\n",
       "             scoring=&#x27;neg_mean_squared_error&#x27;)</pre></div></div></div><div class=\"sk-parallel\"><div class=\"sk-parallel-item\"><div class=\"sk-item\"><div class=\"sk-label-container\"><div class=\"sk-label sk-toggleable\"><input class=\"sk-toggleable__control sk-hidden--visually\" id=\"sk-estimator-id-2\" type=\"checkbox\" ><label for=\"sk-estimator-id-2\" class=\"sk-toggleable__label sk-toggleable__label-arrow\">estimator: XGBRegressor</label><div class=\"sk-toggleable__content\"><pre>XGBRegressor(base_score=None, booster=None, callbacks=None,\n",
       "             colsample_bylevel=None, colsample_bynode=None,\n",
       "             colsample_bytree=None, device=None, early_stopping_rounds=None,\n",
       "             enable_categorical=False, eval_metric=None, feature_types=None,\n",
       "             gamma=None, grow_policy=None, importance_type=None,\n",
       "             interaction_constraints=None, learning_rate=None, max_bin=None,\n",
       "             max_cat_threshold=None, max_cat_to_onehot=None,\n",
       "             max_delta_step=None, max_depth=None, max_leaves=None,\n",
       "             min_child_weight=None, missing=nan, monotone_constraints=None,\n",
       "             multi_strategy=None, n_estimators=None, n_jobs=None,\n",
       "             num_parallel_tree=None, random_state=42, ...)</pre></div></div></div><div class=\"sk-serial\"><div class=\"sk-item\"><div class=\"sk-estimator sk-toggleable\"><input class=\"sk-toggleable__control sk-hidden--visually\" id=\"sk-estimator-id-3\" type=\"checkbox\" ><label for=\"sk-estimator-id-3\" class=\"sk-toggleable__label sk-toggleable__label-arrow\">XGBRegressor</label><div class=\"sk-toggleable__content\"><pre>XGBRegressor(base_score=None, booster=None, callbacks=None,\n",
       "             colsample_bylevel=None, colsample_bynode=None,\n",
       "             colsample_bytree=None, device=None, early_stopping_rounds=None,\n",
       "             enable_categorical=False, eval_metric=None, feature_types=None,\n",
       "             gamma=None, grow_policy=None, importance_type=None,\n",
       "             interaction_constraints=None, learning_rate=None, max_bin=None,\n",
       "             max_cat_threshold=None, max_cat_to_onehot=None,\n",
       "             max_delta_step=None, max_depth=None, max_leaves=None,\n",
       "             min_child_weight=None, missing=nan, monotone_constraints=None,\n",
       "             multi_strategy=None, n_estimators=None, n_jobs=None,\n",
       "             num_parallel_tree=None, random_state=42, ...)</pre></div></div></div></div></div></div></div></div></div></div>"
      ],
      "text/plain": [
       "GridSearchCV(cv=TimeSeriesSplit(gap=0, max_train_size=None, n_splits=5, test_size=None),\n",
       "             estimator=XGBRegressor(base_score=None, booster=None,\n",
       "                                    callbacks=None, colsample_bylevel=None,\n",
       "                                    colsample_bynode=None,\n",
       "                                    colsample_bytree=None, device=None,\n",
       "                                    early_stopping_rounds=None,\n",
       "                                    enable_categorical=False, eval_metric=None,\n",
       "                                    feature_types=None, gamma=None,\n",
       "                                    grow_policy=None, imp...\n",
       "                                    max_cat_to_onehot=None, max_delta_step=None,\n",
       "                                    max_depth=None, max_leaves=None,\n",
       "                                    min_child_weight=None, missing=nan,\n",
       "                                    monotone_constraints=None,\n",
       "                                    multi_strategy=None, n_estimators=None,\n",
       "                                    n_jobs=None, num_parallel_tree=None,\n",
       "                                    random_state=42, ...),\n",
       "             param_grid={'colsample_bytree': [0.3], 'learning_rate': [0.05],\n",
       "                         'max_depth': [3], 'n_estimators': [700]},\n",
       "             scoring='neg_mean_squared_error')"
      ]
     },
     "execution_count": 86,
     "metadata": {},
     "output_type": "execute_result"
    }
   ],
   "source": [
    "from sklearn.model_selection import TimeSeriesSplit, GridSearchCV\n",
    "\n",
    "# XGBoost\n",
    "cv_split = TimeSeriesSplit(n_splits=5)\n",
    "model = XGBRegressor(random_state=42)\n",
    "\n",
    "#parameters = {\n",
    "#    \"max_depth\": [3, 4, 6, 5, 10],\n",
    "#    \"learning_rate\": [0.01, 0.05, 0.1, 0.2, 0.3],\n",
    "#    \"n_estimators\": [100, 300, 500, 700],\n",
    "#    \"colsample_bytree\": [0.3, 0.5, 0.7]\n",
    "#}\n",
    "\n",
    "parameters = {'max_depth': [3], 'learning_rate': [0.05], 'n_estimators': [700], 'colsample_bytree': [0.3]}\n",
    "\n",
    "grid_search = GridSearchCV(estimator=model, cv=cv_split, param_grid=parameters, scoring='neg_mean_squared_error')\n",
    "grid_search.fit(X_train, y_train)"
   ]
  },
  {
   "cell_type": "code",
   "execution_count": 87,
   "id": "_iVbghfk8BC5",
   "metadata": {
    "id": "_iVbghfk8BC5"
   },
   "outputs": [
    {
     "name": "stderr",
     "output_type": "stream",
     "text": [
      "UserWarning: Matplotlib is currently using agg, which is a non-GUI backend, so cannot show the figure.\n"
     ]
    }
   ],
   "source": [
    "import matplotlib.pyplot as plt\n",
    "xgboost_model = grid_search.best_estimator_\n",
    "feature_importance = xgboost_model.feature_importances_\n",
    "sorted_idx = np.argsort(feature_importance)\n",
    "fig = plt.figure(figsize=(12, 6))\n",
    "plt.barh(range(len(sorted_idx)), feature_importance[sorted_idx], align='center')\n",
    "plt.yticks(range(len(sorted_idx)), np.array(X_train.columns)[sorted_idx])\n",
    "plt.title('Feature Importance')\n",
    "plt.show()\n",
    "plt.savefig('feature_importance.png')"
   ]
  },
  {
   "cell_type": "markdown",
   "id": "1UJS2bv_j13o",
   "metadata": {
    "id": "1UJS2bv_j13o"
   },
   "source": [
    "![feature_importance.png](data:image/png;base64,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![1_week_plot.png](data:image/png;base64,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))"
   ]
  },
  {
   "cell_type": "markdown",
   "id": "paLAkD4-8nD5",
   "metadata": {
    "id": "paLAkD4-8nD5"
   },
   "source": [
    "#Score"
   ]
  },
  {
   "cell_type": "code",
   "execution_count": 88,
   "id": "Rh2XU_xf8ldO",
   "metadata": {
    "colab": {
     "base_uri": "https://localhost:8080/"
    },
    "id": "Rh2XU_xf8ldO",
    "outputId": "8c9c7b1b-95b8-4e0f-9937-3178777fdccc"
   },
   "outputs": [
    {
     "data": {
      "text/plain": [
       "{'mean_fit_time': array([0.69912806]),\n",
       " 'std_fit_time': array([0.24664991]),\n",
       " 'mean_score_time': array([0.01032786]),\n",
       " 'std_score_time': array([0.00092557]),\n",
       " 'param_colsample_bytree': masked_array(data=[0.3],\n",
       "              mask=[False],\n",
       "        fill_value='?',\n",
       "             dtype=object),\n",
       " 'param_learning_rate': masked_array(data=[0.05],\n",
       "              mask=[False],\n",
       "        fill_value='?',\n",
       "             dtype=object),\n",
       " 'param_max_depth': masked_array(data=[3],\n",
       "              mask=[False],\n",
       "        fill_value='?',\n",
       "             dtype=object),\n",
       " 'param_n_estimators': masked_array(data=[700],\n",
       "              mask=[False],\n",
       "        fill_value='?',\n",
       "             dtype=object),\n",
       " 'params': [{'colsample_bytree': 0.3,\n",
       "   'learning_rate': 0.05,\n",
       "   'max_depth': 3,\n",
       "   'n_estimators': 700}],\n",
       " 'split0_test_score': array([-1208023.17937398]),\n",
       " 'split1_test_score': array([-1010696.71684313]),\n",
       " 'split2_test_score': array([-1330073.88886858]),\n",
       " 'split3_test_score': array([-1127851.52825994]),\n",
       " 'split4_test_score': array([-1535842.9022529]),\n",
       " 'mean_test_score': array([-1242497.64311971]),\n",
       " 'std_test_score': array([179880.47676224]),\n",
       " 'rank_test_score': array([1])}"
      ]
     },
     "execution_count": 88,
     "metadata": {},
     "output_type": "execute_result"
    }
   ],
   "source": [
    "grid_search.cv_results_"
   ]
  },
  {
   "cell_type": "markdown",
   "id": "hhM39w3NC_dL",
   "metadata": {
    "id": "hhM39w3NC_dL"
   },
   "source": [
    "#Best Model"
   ]
  },
  {
   "cell_type": "code",
   "execution_count": 89,
   "id": "lHbXgK56CHVR",
   "metadata": {
    "colab": {
     "base_uri": "https://localhost:8080/",
     "height": 248
    },
    "id": "lHbXgK56CHVR",
    "outputId": "6521abbe-91dc-48f3-fb85-326e4886d35f"
   },
   "outputs": [
    {
     "data": {
      "text/html": [
       "<style>#sk-container-id-2 {color: black;}#sk-container-id-2 pre{padding: 0;}#sk-container-id-2 div.sk-toggleable {background-color: white;}#sk-container-id-2 label.sk-toggleable__label {cursor: pointer;display: block;width: 100%;margin-bottom: 0;padding: 0.3em;box-sizing: border-box;text-align: center;}#sk-container-id-2 label.sk-toggleable__label-arrow:before {content: \"▸\";float: left;margin-right: 0.25em;color: #696969;}#sk-container-id-2 label.sk-toggleable__label-arrow:hover:before {color: black;}#sk-container-id-2 div.sk-estimator:hover label.sk-toggleable__label-arrow:before {color: black;}#sk-container-id-2 div.sk-toggleable__content {max-height: 0;max-width: 0;overflow: hidden;text-align: left;background-color: #f0f8ff;}#sk-container-id-2 div.sk-toggleable__content pre {margin: 0.2em;color: black;border-radius: 0.25em;background-color: #f0f8ff;}#sk-container-id-2 input.sk-toggleable__control:checked~div.sk-toggleable__content {max-height: 200px;max-width: 100%;overflow: auto;}#sk-container-id-2 input.sk-toggleable__control:checked~label.sk-toggleable__label-arrow:before {content: \"▾\";}#sk-container-id-2 div.sk-estimator input.sk-toggleable__control:checked~label.sk-toggleable__label {background-color: #d4ebff;}#sk-container-id-2 div.sk-label input.sk-toggleable__control:checked~label.sk-toggleable__label {background-color: #d4ebff;}#sk-container-id-2 input.sk-hidden--visually {border: 0;clip: rect(1px 1px 1px 1px);clip: rect(1px, 1px, 1px, 1px);height: 1px;margin: -1px;overflow: hidden;padding: 0;position: absolute;width: 1px;}#sk-container-id-2 div.sk-estimator {font-family: monospace;background-color: #f0f8ff;border: 1px dotted black;border-radius: 0.25em;box-sizing: border-box;margin-bottom: 0.5em;}#sk-container-id-2 div.sk-estimator:hover {background-color: #d4ebff;}#sk-container-id-2 div.sk-parallel-item::after {content: \"\";width: 100%;border-bottom: 1px solid gray;flex-grow: 1;}#sk-container-id-2 div.sk-label:hover label.sk-toggleable__label {background-color: #d4ebff;}#sk-container-id-2 div.sk-serial::before {content: \"\";position: absolute;border-left: 1px solid gray;box-sizing: border-box;top: 0;bottom: 0;left: 50%;z-index: 0;}#sk-container-id-2 div.sk-serial {display: flex;flex-direction: column;align-items: center;background-color: white;padding-right: 0.2em;padding-left: 0.2em;position: relative;}#sk-container-id-2 div.sk-item {position: relative;z-index: 1;}#sk-container-id-2 div.sk-parallel {display: flex;align-items: stretch;justify-content: center;background-color: white;position: relative;}#sk-container-id-2 div.sk-item::before, #sk-container-id-2 div.sk-parallel-item::before {content: \"\";position: absolute;border-left: 1px solid gray;box-sizing: border-box;top: 0;bottom: 0;left: 50%;z-index: -1;}#sk-container-id-2 div.sk-parallel-item {display: flex;flex-direction: column;z-index: 1;position: relative;background-color: white;}#sk-container-id-2 div.sk-parallel-item:first-child::after {align-self: flex-end;width: 50%;}#sk-container-id-2 div.sk-parallel-item:last-child::after {align-self: flex-start;width: 50%;}#sk-container-id-2 div.sk-parallel-item:only-child::after {width: 0;}#sk-container-id-2 div.sk-dashed-wrapped {border: 1px dashed gray;margin: 0 0.4em 0.5em 0.4em;box-sizing: border-box;padding-bottom: 0.4em;background-color: white;}#sk-container-id-2 div.sk-label label {font-family: monospace;font-weight: bold;display: inline-block;line-height: 1.2em;}#sk-container-id-2 div.sk-label-container {text-align: center;}#sk-container-id-2 div.sk-container {/* jupyter's `normalize.less` sets `[hidden] { display: none; }` but bootstrap.min.css set `[hidden] { display: none !important; }` so we also need the `!important` here to be able to override the default hidden behavior on the sphinx rendered scikit-learn.org. See: https://github.com/scikit-learn/scikit-learn/issues/21755 */display: inline-block !important;position: relative;}#sk-container-id-2 div.sk-text-repr-fallback {display: none;}</style><div id=\"sk-container-id-2\" class=\"sk-top-container\"><div class=\"sk-text-repr-fallback\"><pre>XGBRegressor(base_score=None, booster=None, callbacks=None,\n",
       "             colsample_bylevel=None, colsample_bynode=None,\n",
       "             colsample_bytree=0.3, device=None, early_stopping_rounds=None,\n",
       "             enable_categorical=False, eval_metric=None, feature_types=None,\n",
       "             gamma=None, grow_policy=None, importance_type=None,\n",
       "             interaction_constraints=None, learning_rate=0.05, max_bin=None,\n",
       "             max_cat_threshold=None, max_cat_to_onehot=None,\n",
       "             max_delta_step=None, max_depth=3, max_leaves=None,\n",
       "             min_child_weight=None, missing=nan, monotone_constraints=None,\n",
       "             multi_strategy=None, n_estimators=700, n_jobs=None,\n",
       "             num_parallel_tree=None, random_state=42, ...)</pre><b>In a Jupyter environment, please rerun this cell to show the HTML representation or trust the notebook. <br />On GitHub, the HTML representation is unable to render, please try loading this page with nbviewer.org.</b></div><div class=\"sk-container\" hidden><div class=\"sk-item\"><div class=\"sk-estimator sk-toggleable\"><input class=\"sk-toggleable__control sk-hidden--visually\" id=\"sk-estimator-id-4\" type=\"checkbox\" checked><label for=\"sk-estimator-id-4\" class=\"sk-toggleable__label sk-toggleable__label-arrow\">XGBRegressor</label><div class=\"sk-toggleable__content\"><pre>XGBRegressor(base_score=None, booster=None, callbacks=None,\n",
       "             colsample_bylevel=None, colsample_bynode=None,\n",
       "             colsample_bytree=0.3, device=None, early_stopping_rounds=None,\n",
       "             enable_categorical=False, eval_metric=None, feature_types=None,\n",
       "             gamma=None, grow_policy=None, importance_type=None,\n",
       "             interaction_constraints=None, learning_rate=0.05, max_bin=None,\n",
       "             max_cat_threshold=None, max_cat_to_onehot=None,\n",
       "             max_delta_step=None, max_depth=3, max_leaves=None,\n",
       "             min_child_weight=None, missing=nan, monotone_constraints=None,\n",
       "             multi_strategy=None, n_estimators=700, n_jobs=None,\n",
       "             num_parallel_tree=None, random_state=42, ...)</pre></div></div></div></div></div>"
      ],
      "text/plain": [
       "XGBRegressor(base_score=None, booster=None, callbacks=None,\n",
       "             colsample_bylevel=None, colsample_bynode=None,\n",
       "             colsample_bytree=0.3, device=None, early_stopping_rounds=None,\n",
       "             enable_categorical=False, eval_metric=None, feature_types=None,\n",
       "             gamma=None, grow_policy=None, importance_type=None,\n",
       "             interaction_constraints=None, learning_rate=0.05, max_bin=None,\n",
       "             max_cat_threshold=None, max_cat_to_onehot=None,\n",
       "             max_delta_step=None, max_depth=3, max_leaves=None,\n",
       "             min_child_weight=None, missing=nan, monotone_constraints=None,\n",
       "             multi_strategy=None, n_estimators=700, n_jobs=None,\n",
       "             num_parallel_tree=None, random_state=42, ...)"
      ]
     },
     "execution_count": 89,
     "metadata": {},
     "output_type": "execute_result"
    }
   ],
   "source": [
    "from xgboost import XGBRegressor\n",
    "model = XGBRegressor(random_state=42, colsample_bytree=0.3, max_depth=3, n_estimators=700, learning_rate=0.05)\n",
    "model.fit(X_train, y_train)"
   ]
  },
  {
   "cell_type": "code",
   "execution_count": 90,
   "id": "x8loQNY8XD5H",
   "metadata": {
    "colab": {
     "base_uri": "https://localhost:8080/"
    },
    "id": "x8loQNY8XD5H",
    "outputId": "61e4f07d-df2e-4107-9d65-c129ee824e8b"
   },
   "outputs": [],
   "source": [
    "import matplotlib.pyplot as plt\n",
    "\n",
    "y_pred = model.predict(X_test)\n",
    "\n",
    "y_pred_df = pd.DataFrame(data=y_pred, index=X_test.index)\n",
    "y_pred_plot = y_pred_df.set_axis(['england_wales_demand'], axis=1)\n",
    "\n",
    "fig, ax = plt.subplots(figsize=(15, 5))\n",
    "y_pred_plot[\"england_wales_demand\"].plot(\n",
    "    style=\".\", ax=ax, title=\"England Wales Demand\", label=\"predicted data\"\n",
    ")\n",
    "\n",
    "y_test.plot(style=\".\", ax=ax, label=\"real data\")\n",
    "plt.legend()\n",
    "\n",
    "plt.savefig(\"test_plot.png\")"
   ]
  },
  {
   "cell_type": "markdown",
   "id": "F0jN30558aFN",
   "metadata": {
    "id": "F0jN30558aFN"
   },
   "source": [
    "![plot.png](data:image/png;base64,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)\n"
   ]
  },
  {
   "cell_type": "code",
   "execution_count": 93,
   "id": "h8ujCOcWtsnj",
   "metadata": {
    "id": "h8ujCOcWtsnj"
   },
   "outputs": [
    {
     "data": {
      "text/plain": [
       "<matplotlib.legend.Legend at 0x2b8080736d0>"
      ]
     },
     "execution_count": 93,
     "metadata": {},
     "output_type": "execute_result"
    }
   ],
   "source": [
    "fig2, ax2 = plt.subplots(figsize=(15, 5))\n",
    "y_pred_plot[\"england_wales_demand\"].loc['2023-11-01 00:00:00':'2023-11-07 00:00:00'].plot(\n",
    "    style=\".\", ax=ax2, title=\"England Wales Demand\", label=\"predicted data\"\n",
    ")\n",
    "\n",
    "y_test.loc['2023-11-01 00:00:00':'2023-11-07 00:00:00'].plot(style=\".\", ax=ax2, label=\"real data\")\n",
    "plt.legend()\n",
    "\n",
    "#plt.savefig(\"1_week_plot.png\")"
   ]
  },
  {
   "cell_type": "code",
   "execution_count": 94,
   "id": "UiLLjWXNq1Jb",
   "metadata": {
    "colab": {
     "base_uri": "https://localhost:8080/"
    },
    "id": "UiLLjWXNq1Jb",
    "outputId": "56ddb66c-0784-4079-b09e-2c2947bb1977"
   },
   "outputs": [
    {
     "data": {
      "text/plain": [
       "1179921.0518367004"
      ]
     },
     "execution_count": 94,
     "metadata": {},
     "output_type": "execute_result"
    }
   ],
   "source": [
    "from sklearn.metrics import mean_squared_error\n",
    "mean_squared_error(y_test, y_pred)"
   ]
  },
  {
   "cell_type": "markdown",
   "id": "6cdea977-4a6b-495a-b8fa-42f5c81a8e83",
   "metadata": {},
   "source": [
    "# Upload model to registry."
   ]
  },
  {
   "cell_type": "code",
   "execution_count": 101,
   "id": "bcfdfc4f",
   "metadata": {
    "colab": {
     "base_uri": "https://localhost:8080/",
     "height": 521,
     "referenced_widgets": [
      "9cb4af5cc89b4d38bb8b4cbecf99785d",
      "e4d4d6a6b3814486a74aa62158dfd856",
      "0bf2d87576444960ad4f5f9f2b202a8d",
      "c2dce4dfdc5143ad89a03eadb3003a9f",
      "a1cb34950cfe452fb169dd915dbbba34",
      "13d9513857274309b1aa1cfda98b106f",
      "8fbe7a053f7f4a048d95344e82ab50c4",
      "972c03a5e80c4c40970daa99170cea5f",
      "f71f902d594d4bb68fdc6902853647d9",
      "3bd34c03886a46bd9f8a650d01ab6594",
      "c3e2ac866d424fc4af9245432263d5e2",
      "2782a225c7f549d4bed66bd7c287e655",
      "af2b32ace51d47e1bd2878a29f22dee7",
      "b69eec8058944ee398607f9d863f0201",
      "2bf960d7fb84461da0062395d35d4b9b",
      "3197ed19ffdb454fa8853c0dee356106",
      "1adb5cb2065b42d4b383a066ee88dfac",
      "bf2fc836564e46f595edd1d382c43c40",
      "7b12fb010e1d4e6fb09bb99a57b3eae9",
      "c8eb8ca3d201417fb49847d10a5c573d",
      "9bc749e7f6a4454095826c7e93c4fec5",
      "55e8dbd886304350982d82a70576c96b",
      "fde346b208d047e79ae7c1e581c52eca",
      "02978aa761f144e0b33a0fb9246f3034",
      "69edfe804100453caefe1736d673be6f",
      "3920534e5282461f8dbac230bf27d4d1",
      "2ef0322c3a67488e9e13fb4d57e66c4d",
      "8fa6cfc02d464773ad14adb49fe2fcd7",
      "2152bf580ef64cb1a60f8778314d1f54",
      "064af438951341b1b0e90536d8f72de2",
      "f844d719c1934431b0699a7500b79692",
      "cf3f96679e294399988ea5648468c01b",
      "3a61b177ce504ff28d5d459cb63382e5"
     ]
    },
    "id": "bcfdfc4f",
    "outputId": "4aeb190b-f899-463f-be68-54fdefbd4de3"
   },
   "outputs": [
    {
     "name": "stdout",
     "output_type": "stream",
     "text": [
      "Connected. Call `.close()` to terminate connection gracefully.\n"
     ]
    },
    {
     "data": {
      "application/vnd.jupyter.widget-view+json": {
       "model_id": "b4e50c833faf420a9b61cd9178083b30",
       "version_major": 2,
       "version_minor": 0
      },
      "text/plain": [
       "  0%|          | 0/6 [00:00<?, ?it/s]"
      ]
     },
     "metadata": {},
     "output_type": "display_data"
    },
    {
     "data": {
      "application/vnd.jupyter.widget-view+json": {
       "model_id": "9640a9ecb93141eb8b69faf960090bed",
       "version_major": 2,
       "version_minor": 0
      },
      "text/plain": [
       "Uploading: 0.000%|          | 0/821868 elapsed<00:00 remaining<?"
      ]
     },
     "metadata": {},
     "output_type": "display_data"
    },
    {
     "data": {
      "application/vnd.jupyter.widget-view+json": {
       "model_id": "b37c1839aac146d5a2762e47db556067",
       "version_major": 2,
       "version_minor": 0
      },
      "text/plain": [
       "Uploading: 0.000%|          | 0/1368 elapsed<00:00 remaining<?"
      ]
     },
     "metadata": {},
     "output_type": "display_data"
    },
    {
     "name": "stdout",
     "output_type": "stream",
     "text": [
      "Model created, explore it at https://c.app.hopsworks.ai:443/p/361623/models/demand_model/1\n"
     ]
    },
    {
     "data": {
      "text/plain": [
       "Model(name: 'demand_model', version: 1)"
      ]
     },
     "execution_count": 101,
     "metadata": {},
     "output_type": "execute_result"
    }
   ],
   "source": [
    "# We will now upload our model to the Hopsworks Model Registry. First get an object for the model registry.\n",
    "mr = project.get_model_registry()\n",
    "\n",
    "# The contents of the 'weather' directory will be saved to the model registry. Create the dir, first.\n",
    "model_dir=\"demand\"\n",
    "if os.path.isdir(model_dir) == False:\n",
    "    os.mkdir(model_dir)\n",
    "\n",
    "# Save both our model and the plot to 'model_dir', whose contents will be uploaded to the model registry\n",
    "joblib.dump(model, model_dir + \"/demand_model.pkl\")\n",
    "\n",
    "# Specify the schema of the model's input/output using the features (X_train) and labels (y_train)\n",
    "input_schema = Schema(X_train)\n",
    "output_schema = Schema(y_train)\n",
    "model_schema = ModelSchema(input_schema, output_schema)\n",
    "\n",
    "# Create an entry in the model registry that includes the model's name, desc, metrics\n",
    "demand_model = mr.python.create_model(\n",
    "    name=\"demand_model\",\n",
    "    model_schema=model_schema,\n",
    "    description=\"Demand Forecast\"\n",
    ")\n",
    "\n",
    "# Upload the model to the model registry, including all files in 'model_dir'\n",
    "demand_model.save(model_dir)"
   ]
  },
  {
   "cell_type": "code",
   "execution_count": null,
   "id": "EO3db_UiuMYB",
   "metadata": {
    "id": "EO3db_UiuMYB"
   },
   "outputs": [],
   "source": []
  }
 ],
 "metadata": {
  "accelerator": "GPU",
  "colab": {
   "gpuType": "T4",
   "provenance": []
  },
  "kernelspec": {
   "display_name": "Python 3 (ipykernel)",
   "language": "python",
   "name": "python3"
  },
  "language_info": {
   "codemirror_mode": {
    "name": "ipython",
    "version": 3
   },
   "file_extension": ".py",
   "mimetype": "text/x-python",
   "name": "python",
   "nbconvert_exporter": "python",
   "pygments_lexer": "ipython3",
   "version": "3.11.5"
  },
  "widgets": {
   "application/vnd.jupyter.widget-state+json": {
    "02978aa761f144e0b33a0fb9246f3034": {
     "model_module": "@jupyter-widgets/controls",
     "model_module_version": "1.5.0",
     "model_name": "HTMLModel",
     "state": {
      "_dom_classes": [],
      "_model_module": "@jupyter-widgets/controls",
      "_model_module_version": "1.5.0",
      "_model_name": "HTMLModel",
      "_view_count": null,
      "_view_module": "@jupyter-widgets/controls",
      "_view_module_version": "1.5.0",
      "_view_name": "HTMLView",
      "description": "",
      "description_tooltip": null,
      "layout": "IPY_MODEL_8fa6cfc02d464773ad14adb49fe2fcd7",
      "placeholder": "​",
      "style": "IPY_MODEL_2152bf580ef64cb1a60f8778314d1f54",
      "value": "Uploading: 0.000%"
     }
    },
    "064af438951341b1b0e90536d8f72de2": {
     "model_module": "@jupyter-widgets/base",
     "model_module_version": "1.2.0",
     "model_name": "LayoutModel",
     "state": {
      "_model_module": "@jupyter-widgets/base",
      "_model_module_version": "1.2.0",
      "_model_name": "LayoutModel",
      "_view_count": null,
      "_view_module": "@jupyter-widgets/base",
      "_view_module_version": "1.2.0",
      "_view_name": "LayoutView",
      "align_content": null,
      "align_items": null,
      "align_self": null,
      "border": null,
      "bottom": null,
      "display": null,
      "flex": null,
      "flex_flow": null,
      "grid_area": null,
      "grid_auto_columns": null,
      "grid_auto_flow": null,
      "grid_auto_rows": null,
      "grid_column": null,
      "grid_gap": null,
      "grid_row": null,
      "grid_template_areas": null,
      "grid_template_columns": null,
      "grid_template_rows": null,
      "height": null,
      "justify_content": null,
      "justify_items": null,
      "left": null,
      "margin": null,
      "max_height": null,
      "max_width": null,
      "min_height": null,
      "min_width": null,
      "object_fit": null,
      "object_position": null,
      "order": null,
      "overflow": null,
      "overflow_x": null,
      "overflow_y": null,
      "padding": null,
      "right": null,
      "top": null,
      "visibility": null,
      "width": null
     }
    },
    "0bf2d87576444960ad4f5f9f2b202a8d": {
     "model_module": "@jupyter-widgets/controls",
     "model_module_version": "1.5.0",
     "model_name": "FloatProgressModel",
     "state": {
      "_dom_classes": [],
      "_model_module": "@jupyter-widgets/controls",
      "_model_module_version": "1.5.0",
      "_model_name": "FloatProgressModel",
      "_view_count": null,
      "_view_module": "@jupyter-widgets/controls",
      "_view_module_version": "1.5.0",
      "_view_name": "ProgressView",
      "bar_style": "danger",
      "description": "",
      "description_tooltip": null,
      "layout": "IPY_MODEL_972c03a5e80c4c40970daa99170cea5f",
      "max": 6,
      "min": 0,
      "orientation": "horizontal",
      "style": "IPY_MODEL_f71f902d594d4bb68fdc6902853647d9",
      "value": 1
     }
    },
    "13d9513857274309b1aa1cfda98b106f": {
     "model_module": "@jupyter-widgets/base",
     "model_module_version": "1.2.0",
     "model_name": "LayoutModel",
     "state": {
      "_model_module": "@jupyter-widgets/base",
      "_model_module_version": "1.2.0",
      "_model_name": "LayoutModel",
      "_view_count": null,
      "_view_module": "@jupyter-widgets/base",
      "_view_module_version": "1.2.0",
      "_view_name": "LayoutView",
      "align_content": null,
      "align_items": null,
      "align_self": null,
      "border": null,
      "bottom": null,
      "display": null,
      "flex": null,
      "flex_flow": null,
      "grid_area": null,
      "grid_auto_columns": null,
      "grid_auto_flow": null,
      "grid_auto_rows": null,
      "grid_column": null,
      "grid_gap": null,
      "grid_row": null,
      "grid_template_areas": null,
      "grid_template_columns": null,
      "grid_template_rows": null,
      "height": null,
      "justify_content": null,
      "justify_items": null,
      "left": null,
      "margin": null,
      "max_height": null,
      "max_width": null,
      "min_height": null,
      "min_width": null,
      "object_fit": null,
      "object_position": null,
      "order": null,
      "overflow": null,
      "overflow_x": null,
      "overflow_y": null,
      "padding": null,
      "right": null,
      "top": null,
      "visibility": null,
      "width": null
     }
    },
    "1adb5cb2065b42d4b383a066ee88dfac": {
     "model_module": "@jupyter-widgets/base",
     "model_module_version": "1.2.0",
     "model_name": "LayoutModel",
     "state": {
      "_model_module": "@jupyter-widgets/base",
      "_model_module_version": "1.2.0",
      "_model_name": "LayoutModel",
      "_view_count": null,
      "_view_module": "@jupyter-widgets/base",
      "_view_module_version": "1.2.0",
      "_view_name": "LayoutView",
      "align_content": null,
      "align_items": null,
      "align_self": null,
      "border": null,
      "bottom": null,
      "display": null,
      "flex": null,
      "flex_flow": null,
      "grid_area": null,
      "grid_auto_columns": null,
      "grid_auto_flow": null,
      "grid_auto_rows": null,
      "grid_column": null,
      "grid_gap": null,
      "grid_row": null,
      "grid_template_areas": null,
      "grid_template_columns": null,
      "grid_template_rows": null,
      "height": null,
      "justify_content": null,
      "justify_items": null,
      "left": null,
      "margin": null,
      "max_height": null,
      "max_width": null,
      "min_height": null,
      "min_width": null,
      "object_fit": null,
      "object_position": null,
      "order": null,
      "overflow": null,
      "overflow_x": null,
      "overflow_y": null,
      "padding": null,
      "right": null,
      "top": null,
      "visibility": null,
      "width": null
     }
    },
    "2152bf580ef64cb1a60f8778314d1f54": {
     "model_module": "@jupyter-widgets/controls",
     "model_module_version": "1.5.0",
     "model_name": "DescriptionStyleModel",
     "state": {
      "_model_module": "@jupyter-widgets/controls",
      "_model_module_version": "1.5.0",
      "_model_name": "DescriptionStyleModel",
      "_view_count": null,
      "_view_module": "@jupyter-widgets/base",
      "_view_module_version": "1.2.0",
      "_view_name": "StyleView",
      "description_width": ""
     }
    },
    "2782a225c7f549d4bed66bd7c287e655": {
     "model_module": "@jupyter-widgets/controls",
     "model_module_version": "1.5.0",
     "model_name": "HBoxModel",
     "state": {
      "_dom_classes": [],
      "_model_module": "@jupyter-widgets/controls",
      "_model_module_version": "1.5.0",
      "_model_name": "HBoxModel",
      "_view_count": null,
      "_view_module": "@jupyter-widgets/controls",
      "_view_module_version": "1.5.0",
      "_view_name": "HBoxView",
      "box_style": "",
      "children": [
       "IPY_MODEL_af2b32ace51d47e1bd2878a29f22dee7",
       "IPY_MODEL_b69eec8058944ee398607f9d863f0201",
       "IPY_MODEL_2bf960d7fb84461da0062395d35d4b9b"
      ],
      "layout": "IPY_MODEL_3197ed19ffdb454fa8853c0dee356106"
     }
    },
    "2bf960d7fb84461da0062395d35d4b9b": {
     "model_module": "@jupyter-widgets/controls",
     "model_module_version": "1.5.0",
     "model_name": "HTMLModel",
     "state": {
      "_dom_classes": [],
      "_model_module": "@jupyter-widgets/controls",
      "_model_module_version": "1.5.0",
      "_model_name": "HTMLModel",
      "_view_count": null,
      "_view_module": "@jupyter-widgets/controls",
      "_view_module_version": "1.5.0",
      "_view_name": "HTMLView",
      "description": "",
      "description_tooltip": null,
      "layout": "IPY_MODEL_9bc749e7f6a4454095826c7e93c4fec5",
      "placeholder": "​",
      "style": "IPY_MODEL_55e8dbd886304350982d82a70576c96b",
      "value": " 3573/3573 elapsed&lt;00:01 remaining&lt;00:00"
     }
    },
    "2ef0322c3a67488e9e13fb4d57e66c4d": {
     "model_module": "@jupyter-widgets/base",
     "model_module_version": "1.2.0",
     "model_name": "LayoutModel",
     "state": {
      "_model_module": "@jupyter-widgets/base",
      "_model_module_version": "1.2.0",
      "_model_name": "LayoutModel",
      "_view_count": null,
      "_view_module": "@jupyter-widgets/base",
      "_view_module_version": "1.2.0",
      "_view_name": "LayoutView",
      "align_content": null,
      "align_items": null,
      "align_self": null,
      "border": null,
      "bottom": null,
      "display": null,
      "flex": null,
      "flex_flow": null,
      "grid_area": null,
      "grid_auto_columns": null,
      "grid_auto_flow": null,
      "grid_auto_rows": null,
      "grid_column": null,
      "grid_gap": null,
      "grid_row": null,
      "grid_template_areas": null,
      "grid_template_columns": null,
      "grid_template_rows": null,
      "height": null,
      "justify_content": null,
      "justify_items": null,
      "left": null,
      "margin": null,
      "max_height": null,
      "max_width": null,
      "min_height": null,
      "min_width": null,
      "object_fit": null,
      "object_position": null,
      "order": null,
      "overflow": null,
      "overflow_x": null,
      "overflow_y": null,
      "padding": null,
      "right": null,
      "top": null,
      "visibility": null,
      "width": null
     }
    },
    "3197ed19ffdb454fa8853c0dee356106": {
     "model_module": "@jupyter-widgets/base",
     "model_module_version": "1.2.0",
     "model_name": "LayoutModel",
     "state": {
      "_model_module": "@jupyter-widgets/base",
      "_model_module_version": "1.2.0",
      "_model_name": "LayoutModel",
      "_view_count": null,
      "_view_module": "@jupyter-widgets/base",
      "_view_module_version": "1.2.0",
      "_view_name": "LayoutView",
      "align_content": null,
      "align_items": null,
      "align_self": null,
      "border": null,
      "bottom": null,
      "display": null,
      "flex": null,
      "flex_flow": null,
      "grid_area": null,
      "grid_auto_columns": null,
      "grid_auto_flow": null,
      "grid_auto_rows": null,
      "grid_column": null,
      "grid_gap": null,
      "grid_row": null,
      "grid_template_areas": null,
      "grid_template_columns": null,
      "grid_template_rows": null,
      "height": null,
      "justify_content": null,
      "justify_items": null,
      "left": null,
      "margin": null,
      "max_height": null,
      "max_width": null,
      "min_height": null,
      "min_width": null,
      "object_fit": null,
      "object_position": null,
      "order": null,
      "overflow": null,
      "overflow_x": null,
      "overflow_y": null,
      "padding": null,
      "right": null,
      "top": null,
      "visibility": null,
      "width": null
     }
    },
    "3920534e5282461f8dbac230bf27d4d1": {
     "model_module": "@jupyter-widgets/controls",
     "model_module_version": "1.5.0",
     "model_name": "HTMLModel",
     "state": {
      "_dom_classes": [],
      "_model_module": "@jupyter-widgets/controls",
      "_model_module_version": "1.5.0",
      "_model_name": "HTMLModel",
      "_view_count": null,
      "_view_module": "@jupyter-widgets/controls",
      "_view_module_version": "1.5.0",
      "_view_name": "HTMLView",
      "description": "",
      "description_tooltip": null,
      "layout": "IPY_MODEL_cf3f96679e294399988ea5648468c01b",
      "placeholder": "​",
      "style": "IPY_MODEL_3a61b177ce504ff28d5d459cb63382e5",
      "value": " 0/734 elapsed&lt;00:00 remaining&lt;?"
     }
    },
    "3a61b177ce504ff28d5d459cb63382e5": {
     "model_module": "@jupyter-widgets/controls",
     "model_module_version": "1.5.0",
     "model_name": "DescriptionStyleModel",
     "state": {
      "_model_module": "@jupyter-widgets/controls",
      "_model_module_version": "1.5.0",
      "_model_name": "DescriptionStyleModel",
      "_view_count": null,
      "_view_module": "@jupyter-widgets/base",
      "_view_module_version": "1.2.0",
      "_view_name": "StyleView",
      "description_width": ""
     }
    },
    "3bd34c03886a46bd9f8a650d01ab6594": {
     "model_module": "@jupyter-widgets/base",
     "model_module_version": "1.2.0",
     "model_name": "LayoutModel",
     "state": {
      "_model_module": "@jupyter-widgets/base",
      "_model_module_version": "1.2.0",
      "_model_name": "LayoutModel",
      "_view_count": null,
      "_view_module": "@jupyter-widgets/base",
      "_view_module_version": "1.2.0",
      "_view_name": "LayoutView",
      "align_content": null,
      "align_items": null,
      "align_self": null,
      "border": null,
      "bottom": null,
      "display": null,
      "flex": null,
      "flex_flow": null,
      "grid_area": null,
      "grid_auto_columns": null,
      "grid_auto_flow": null,
      "grid_auto_rows": null,
      "grid_column": null,
      "grid_gap": null,
      "grid_row": null,
      "grid_template_areas": null,
      "grid_template_columns": null,
      "grid_template_rows": null,
      "height": null,
      "justify_content": null,
      "justify_items": null,
      "left": null,
      "margin": null,
      "max_height": null,
      "max_width": null,
      "min_height": null,
      "min_width": null,
      "object_fit": null,
      "object_position": null,
      "order": null,
      "overflow": null,
      "overflow_x": null,
      "overflow_y": null,
      "padding": null,
      "right": null,
      "top": null,
      "visibility": null,
      "width": null
     }
    },
    "55e8dbd886304350982d82a70576c96b": {
     "model_module": "@jupyter-widgets/controls",
     "model_module_version": "1.5.0",
     "model_name": "DescriptionStyleModel",
     "state": {
      "_model_module": "@jupyter-widgets/controls",
      "_model_module_version": "1.5.0",
      "_model_name": "DescriptionStyleModel",
      "_view_count": null,
      "_view_module": "@jupyter-widgets/base",
      "_view_module_version": "1.2.0",
      "_view_name": "StyleView",
      "description_width": ""
     }
    },
    "69edfe804100453caefe1736d673be6f": {
     "model_module": "@jupyter-widgets/controls",
     "model_module_version": "1.5.0",
     "model_name": "FloatProgressModel",
     "state": {
      "_dom_classes": [],
      "_model_module": "@jupyter-widgets/controls",
      "_model_module_version": "1.5.0",
      "_model_name": "FloatProgressModel",
      "_view_count": null,
      "_view_module": "@jupyter-widgets/controls",
      "_view_module_version": "1.5.0",
      "_view_name": "ProgressView",
      "bar_style": "danger",
      "description": "",
      "description_tooltip": null,
      "layout": "IPY_MODEL_064af438951341b1b0e90536d8f72de2",
      "max": 734,
      "min": 0,
      "orientation": "horizontal",
      "style": "IPY_MODEL_f844d719c1934431b0699a7500b79692",
      "value": 0
     }
    },
    "7b12fb010e1d4e6fb09bb99a57b3eae9": {
     "model_module": "@jupyter-widgets/base",
     "model_module_version": "1.2.0",
     "model_name": "LayoutModel",
     "state": {
      "_model_module": "@jupyter-widgets/base",
      "_model_module_version": "1.2.0",
      "_model_name": "LayoutModel",
      "_view_count": null,
      "_view_module": "@jupyter-widgets/base",
      "_view_module_version": "1.2.0",
      "_view_name": "LayoutView",
      "align_content": null,
      "align_items": null,
      "align_self": null,
      "border": null,
      "bottom": null,
      "display": null,
      "flex": null,
      "flex_flow": null,
      "grid_area": null,
      "grid_auto_columns": null,
      "grid_auto_flow": null,
      "grid_auto_rows": null,
      "grid_column": null,
      "grid_gap": null,
      "grid_row": null,
      "grid_template_areas": null,
      "grid_template_columns": null,
      "grid_template_rows": null,
      "height": null,
      "justify_content": null,
      "justify_items": null,
      "left": null,
      "margin": null,
      "max_height": null,
      "max_width": null,
      "min_height": null,
      "min_width": null,
      "object_fit": null,
      "object_position": null,
      "order": null,
      "overflow": null,
      "overflow_x": null,
      "overflow_y": null,
      "padding": null,
      "right": null,
      "top": null,
      "visibility": null,
      "width": null
     }
    },
    "8fa6cfc02d464773ad14adb49fe2fcd7": {
     "model_module": "@jupyter-widgets/base",
     "model_module_version": "1.2.0",
     "model_name": "LayoutModel",
     "state": {
      "_model_module": "@jupyter-widgets/base",
      "_model_module_version": "1.2.0",
      "_model_name": "LayoutModel",
      "_view_count": null,
      "_view_module": "@jupyter-widgets/base",
      "_view_module_version": "1.2.0",
      "_view_name": "LayoutView",
      "align_content": null,
      "align_items": null,
      "align_self": null,
      "border": null,
      "bottom": null,
      "display": null,
      "flex": null,
      "flex_flow": null,
      "grid_area": null,
      "grid_auto_columns": null,
      "grid_auto_flow": null,
      "grid_auto_rows": null,
      "grid_column": null,
      "grid_gap": null,
      "grid_row": null,
      "grid_template_areas": null,
      "grid_template_columns": null,
      "grid_template_rows": null,
      "height": null,
      "justify_content": null,
      "justify_items": null,
      "left": null,
      "margin": null,
      "max_height": null,
      "max_width": null,
      "min_height": null,
      "min_width": null,
      "object_fit": null,
      "object_position": null,
      "order": null,
      "overflow": null,
      "overflow_x": null,
      "overflow_y": null,
      "padding": null,
      "right": null,
      "top": null,
      "visibility": null,
      "width": null
     }
    },
    "8fbe7a053f7f4a048d95344e82ab50c4": {
     "model_module": "@jupyter-widgets/controls",
     "model_module_version": "1.5.0",
     "model_name": "DescriptionStyleModel",
     "state": {
      "_model_module": "@jupyter-widgets/controls",
      "_model_module_version": "1.5.0",
      "_model_name": "DescriptionStyleModel",
      "_view_count": null,
      "_view_module": "@jupyter-widgets/base",
      "_view_module_version": "1.2.0",
      "_view_name": "StyleView",
      "description_width": ""
     }
    },
    "972c03a5e80c4c40970daa99170cea5f": {
     "model_module": "@jupyter-widgets/base",
     "model_module_version": "1.2.0",
     "model_name": "LayoutModel",
     "state": {
      "_model_module": "@jupyter-widgets/base",
      "_model_module_version": "1.2.0",
      "_model_name": "LayoutModel",
      "_view_count": null,
      "_view_module": "@jupyter-widgets/base",
      "_view_module_version": "1.2.0",
      "_view_name": "LayoutView",
      "align_content": null,
      "align_items": null,
      "align_self": null,
      "border": null,
      "bottom": null,
      "display": null,
      "flex": null,
      "flex_flow": null,
      "grid_area": null,
      "grid_auto_columns": null,
      "grid_auto_flow": null,
      "grid_auto_rows": null,
      "grid_column": null,
      "grid_gap": null,
      "grid_row": null,
      "grid_template_areas": null,
      "grid_template_columns": null,
      "grid_template_rows": null,
      "height": null,
      "justify_content": null,
      "justify_items": null,
      "left": null,
      "margin": null,
      "max_height": null,
      "max_width": null,
      "min_height": null,
      "min_width": null,
      "object_fit": null,
      "object_position": null,
      "order": null,
      "overflow": null,
      "overflow_x": null,
      "overflow_y": null,
      "padding": null,
      "right": null,
      "top": null,
      "visibility": null,
      "width": null
     }
    },
    "9bc749e7f6a4454095826c7e93c4fec5": {
     "model_module": "@jupyter-widgets/base",
     "model_module_version": "1.2.0",
     "model_name": "LayoutModel",
     "state": {
      "_model_module": "@jupyter-widgets/base",
      "_model_module_version": "1.2.0",
      "_model_name": "LayoutModel",
      "_view_count": null,
      "_view_module": "@jupyter-widgets/base",
      "_view_module_version": "1.2.0",
      "_view_name": "LayoutView",
      "align_content": null,
      "align_items": null,
      "align_self": null,
      "border": null,
      "bottom": null,
      "display": null,
      "flex": null,
      "flex_flow": null,
      "grid_area": null,
      "grid_auto_columns": null,
      "grid_auto_flow": null,
      "grid_auto_rows": null,
      "grid_column": null,
      "grid_gap": null,
      "grid_row": null,
      "grid_template_areas": null,
      "grid_template_columns": null,
      "grid_template_rows": null,
      "height": null,
      "justify_content": null,
      "justify_items": null,
      "left": null,
      "margin": null,
      "max_height": null,
      "max_width": null,
      "min_height": null,
      "min_width": null,
      "object_fit": null,
      "object_position": null,
      "order": null,
      "overflow": null,
      "overflow_x": null,
      "overflow_y": null,
      "padding": null,
      "right": null,
      "top": null,
      "visibility": null,
      "width": null
     }
    },
    "9cb4af5cc89b4d38bb8b4cbecf99785d": {
     "model_module": "@jupyter-widgets/controls",
     "model_module_version": "1.5.0",
     "model_name": "HBoxModel",
     "state": {
      "_dom_classes": [],
      "_model_module": "@jupyter-widgets/controls",
      "_model_module_version": "1.5.0",
      "_model_name": "HBoxModel",
      "_view_count": null,
      "_view_module": "@jupyter-widgets/controls",
      "_view_module_version": "1.5.0",
      "_view_name": "HBoxView",
      "box_style": "",
      "children": [
       "IPY_MODEL_e4d4d6a6b3814486a74aa62158dfd856",
       "IPY_MODEL_0bf2d87576444960ad4f5f9f2b202a8d",
       "IPY_MODEL_c2dce4dfdc5143ad89a03eadb3003a9f"
      ],
      "layout": "IPY_MODEL_a1cb34950cfe452fb169dd915dbbba34"
     }
    },
    "a1cb34950cfe452fb169dd915dbbba34": {
     "model_module": "@jupyter-widgets/base",
     "model_module_version": "1.2.0",
     "model_name": "LayoutModel",
     "state": {
      "_model_module": "@jupyter-widgets/base",
      "_model_module_version": "1.2.0",
      "_model_name": "LayoutModel",
      "_view_count": null,
      "_view_module": "@jupyter-widgets/base",
      "_view_module_version": "1.2.0",
      "_view_name": "LayoutView",
      "align_content": null,
      "align_items": null,
      "align_self": null,
      "border": null,
      "bottom": null,
      "display": null,
      "flex": null,
      "flex_flow": null,
      "grid_area": null,
      "grid_auto_columns": null,
      "grid_auto_flow": null,
      "grid_auto_rows": null,
      "grid_column": null,
      "grid_gap": null,
      "grid_row": null,
      "grid_template_areas": null,
      "grid_template_columns": null,
      "grid_template_rows": null,
      "height": null,
      "justify_content": null,
      "justify_items": null,
      "left": null,
      "margin": null,
      "max_height": null,
      "max_width": null,
      "min_height": null,
      "min_width": null,
      "object_fit": null,
      "object_position": null,
      "order": null,
      "overflow": null,
      "overflow_x": null,
      "overflow_y": null,
      "padding": null,
      "right": null,
      "top": null,
      "visibility": null,
      "width": null
     }
    },
    "af2b32ace51d47e1bd2878a29f22dee7": {
     "model_module": "@jupyter-widgets/controls",
     "model_module_version": "1.5.0",
     "model_name": "HTMLModel",
     "state": {
      "_dom_classes": [],
      "_model_module": "@jupyter-widgets/controls",
      "_model_module_version": "1.5.0",
      "_model_name": "HTMLModel",
      "_view_count": null,
      "_view_module": "@jupyter-widgets/controls",
      "_view_module_version": "1.5.0",
      "_view_name": "HTMLView",
      "description": "",
      "description_tooltip": null,
      "layout": "IPY_MODEL_1adb5cb2065b42d4b383a066ee88dfac",
      "placeholder": "​",
      "style": "IPY_MODEL_bf2fc836564e46f595edd1d382c43c40",
      "value": "Uploading: 100.000%"
     }
    },
    "b69eec8058944ee398607f9d863f0201": {
     "model_module": "@jupyter-widgets/controls",
     "model_module_version": "1.5.0",
     "model_name": "FloatProgressModel",
     "state": {
      "_dom_classes": [],
      "_model_module": "@jupyter-widgets/controls",
      "_model_module_version": "1.5.0",
      "_model_name": "FloatProgressModel",
      "_view_count": null,
      "_view_module": "@jupyter-widgets/controls",
      "_view_module_version": "1.5.0",
      "_view_name": "ProgressView",
      "bar_style": "success",
      "description": "",
      "description_tooltip": null,
      "layout": "IPY_MODEL_7b12fb010e1d4e6fb09bb99a57b3eae9",
      "max": 3573,
      "min": 0,
      "orientation": "horizontal",
      "style": "IPY_MODEL_c8eb8ca3d201417fb49847d10a5c573d",
      "value": 3573
     }
    },
    "bf2fc836564e46f595edd1d382c43c40": {
     "model_module": "@jupyter-widgets/controls",
     "model_module_version": "1.5.0",
     "model_name": "DescriptionStyleModel",
     "state": {
      "_model_module": "@jupyter-widgets/controls",
      "_model_module_version": "1.5.0",
      "_model_name": "DescriptionStyleModel",
      "_view_count": null,
      "_view_module": "@jupyter-widgets/base",
      "_view_module_version": "1.2.0",
      "_view_name": "StyleView",
      "description_width": ""
     }
    },
    "c2dce4dfdc5143ad89a03eadb3003a9f": {
     "model_module": "@jupyter-widgets/controls",
     "model_module_version": "1.5.0",
     "model_name": "HTMLModel",
     "state": {
      "_dom_classes": [],
      "_model_module": "@jupyter-widgets/controls",
      "_model_module_version": "1.5.0",
      "_model_name": "HTMLModel",
      "_view_count": null,
      "_view_module": "@jupyter-widgets/controls",
      "_view_module_version": "1.5.0",
      "_view_name": "HTMLView",
      "description": "",
      "description_tooltip": null,
      "layout": "IPY_MODEL_3bd34c03886a46bd9f8a650d01ab6594",
      "placeholder": "​",
      "style": "IPY_MODEL_c3e2ac866d424fc4af9245432263d5e2",
      "value": " 1/6 [00:02&lt;00:01,  3.75it/s]"
     }
    },
    "c3e2ac866d424fc4af9245432263d5e2": {
     "model_module": "@jupyter-widgets/controls",
     "model_module_version": "1.5.0",
     "model_name": "DescriptionStyleModel",
     "state": {
      "_model_module": "@jupyter-widgets/controls",
      "_model_module_version": "1.5.0",
      "_model_name": "DescriptionStyleModel",
      "_view_count": null,
      "_view_module": "@jupyter-widgets/base",
      "_view_module_version": "1.2.0",
      "_view_name": "StyleView",
      "description_width": ""
     }
    },
    "c8eb8ca3d201417fb49847d10a5c573d": {
     "model_module": "@jupyter-widgets/controls",
     "model_module_version": "1.5.0",
     "model_name": "ProgressStyleModel",
     "state": {
      "_model_module": "@jupyter-widgets/controls",
      "_model_module_version": "1.5.0",
      "_model_name": "ProgressStyleModel",
      "_view_count": null,
      "_view_module": "@jupyter-widgets/base",
      "_view_module_version": "1.2.0",
      "_view_name": "StyleView",
      "bar_color": null,
      "description_width": ""
     }
    },
    "cf3f96679e294399988ea5648468c01b": {
     "model_module": "@jupyter-widgets/base",
     "model_module_version": "1.2.0",
     "model_name": "LayoutModel",
     "state": {
      "_model_module": "@jupyter-widgets/base",
      "_model_module_version": "1.2.0",
      "_model_name": "LayoutModel",
      "_view_count": null,
      "_view_module": "@jupyter-widgets/base",
      "_view_module_version": "1.2.0",
      "_view_name": "LayoutView",
      "align_content": null,
      "align_items": null,
      "align_self": null,
      "border": null,
      "bottom": null,
      "display": null,
      "flex": null,
      "flex_flow": null,
      "grid_area": null,
      "grid_auto_columns": null,
      "grid_auto_flow": null,
      "grid_auto_rows": null,
      "grid_column": null,
      "grid_gap": null,
      "grid_row": null,
      "grid_template_areas": null,
      "grid_template_columns": null,
      "grid_template_rows": null,
      "height": null,
      "justify_content": null,
      "justify_items": null,
      "left": null,
      "margin": null,
      "max_height": null,
      "max_width": null,
      "min_height": null,
      "min_width": null,
      "object_fit": null,
      "object_position": null,
      "order": null,
      "overflow": null,
      "overflow_x": null,
      "overflow_y": null,
      "padding": null,
      "right": null,
      "top": null,
      "visibility": null,
      "width": null
     }
    },
    "e4d4d6a6b3814486a74aa62158dfd856": {
     "model_module": "@jupyter-widgets/controls",
     "model_module_version": "1.5.0",
     "model_name": "HTMLModel",
     "state": {
      "_dom_classes": [],
      "_model_module": "@jupyter-widgets/controls",
      "_model_module_version": "1.5.0",
      "_model_name": "HTMLModel",
      "_view_count": null,
      "_view_module": "@jupyter-widgets/controls",
      "_view_module_version": "1.5.0",
      "_view_name": "HTMLView",
      "description": "",
      "description_tooltip": null,
      "layout": "IPY_MODEL_13d9513857274309b1aa1cfda98b106f",
      "placeholder": "​",
      "style": "IPY_MODEL_8fbe7a053f7f4a048d95344e82ab50c4",
      "value": "Uploading model files (0 dirs, 1 files):  17%"
     }
    },
    "f71f902d594d4bb68fdc6902853647d9": {
     "model_module": "@jupyter-widgets/controls",
     "model_module_version": "1.5.0",
     "model_name": "ProgressStyleModel",
     "state": {
      "_model_module": "@jupyter-widgets/controls",
      "_model_module_version": "1.5.0",
      "_model_name": "ProgressStyleModel",
      "_view_count": null,
      "_view_module": "@jupyter-widgets/base",
      "_view_module_version": "1.2.0",
      "_view_name": "StyleView",
      "bar_color": null,
      "description_width": ""
     }
    },
    "f844d719c1934431b0699a7500b79692": {
     "model_module": "@jupyter-widgets/controls",
     "model_module_version": "1.5.0",
     "model_name": "ProgressStyleModel",
     "state": {
      "_model_module": "@jupyter-widgets/controls",
      "_model_module_version": "1.5.0",
      "_model_name": "ProgressStyleModel",
      "_view_count": null,
      "_view_module": "@jupyter-widgets/base",
      "_view_module_version": "1.2.0",
      "_view_name": "StyleView",
      "bar_color": null,
      "description_width": ""
     }
    },
    "fde346b208d047e79ae7c1e581c52eca": {
     "model_module": "@jupyter-widgets/controls",
     "model_module_version": "1.5.0",
     "model_name": "HBoxModel",
     "state": {
      "_dom_classes": [],
      "_model_module": "@jupyter-widgets/controls",
      "_model_module_version": "1.5.0",
      "_model_name": "HBoxModel",
      "_view_count": null,
      "_view_module": "@jupyter-widgets/controls",
      "_view_module_version": "1.5.0",
      "_view_name": "HBoxView",
      "box_style": "",
      "children": [
       "IPY_MODEL_02978aa761f144e0b33a0fb9246f3034",
       "IPY_MODEL_69edfe804100453caefe1736d673be6f",
       "IPY_MODEL_3920534e5282461f8dbac230bf27d4d1"
      ],
      "layout": "IPY_MODEL_2ef0322c3a67488e9e13fb4d57e66c4d"
     }
    }
   }
  }
 },
 "nbformat": 4,
 "nbformat_minor": 5
}
