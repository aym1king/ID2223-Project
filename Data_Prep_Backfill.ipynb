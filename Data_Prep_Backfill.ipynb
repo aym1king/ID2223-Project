{
 "cells": [
  {
   "cell_type": "code",
   "execution_count": 5,
   "metadata": {
    "colab": {
     "base_uri": "https://localhost:8080/"
    },
    "id": "RHOtrQpmtsEO",
    "outputId": "1f869953-2c92-40ba-c383-eaec4cf25356"
   },
   "outputs": [
    {
     "name": "stdout",
     "output_type": "stream",
     "text": [
      "Defaulting to user installation because normal site-packages is not writeable\n",
      "Requirement already satisfied: opendatasets in /Users/erlandekh/Library/Python/3.9/lib/python/site-packages (0.1.22)\n",
      "Requirement already satisfied: kaggle in /Users/erlandekh/Library/Python/3.9/lib/python/site-packages (from opendatasets) (1.6.0)\n",
      "Requirement already satisfied: click in /Users/erlandekh/Library/Python/3.9/lib/python/site-packages (from opendatasets) (8.1.7)\n",
      "Requirement already satisfied: tqdm in /Users/erlandekh/Library/Python/3.9/lib/python/site-packages (from opendatasets) (4.66.1)\n",
      "Requirement already satisfied: six>=1.10 in /Library/Developer/CommandLineTools/Library/Frameworks/Python3.framework/Versions/3.9/lib/python3.9/site-packages (from kaggle->opendatasets) (1.15.0)\n",
      "Requirement already satisfied: certifi in /Users/erlandekh/Library/Python/3.9/lib/python/site-packages (from kaggle->opendatasets) (2023.11.17)\n",
      "Requirement already satisfied: python-slugify in /Users/erlandekh/Library/Python/3.9/lib/python/site-packages (from kaggle->opendatasets) (8.0.1)\n",
      "Requirement already satisfied: urllib3 in /Users/erlandekh/Library/Python/3.9/lib/python/site-packages (from kaggle->opendatasets) (1.26.18)\n",
      "Requirement already satisfied: bleach in /Users/erlandekh/Library/Python/3.9/lib/python/site-packages (from kaggle->opendatasets) (5.0.1)\n",
      "Requirement already satisfied: python-dateutil in /Users/erlandekh/Library/Python/3.9/lib/python/site-packages (from kaggle->opendatasets) (2.8.2)\n",
      "Requirement already satisfied: requests in /Users/erlandekh/Library/Python/3.9/lib/python/site-packages (from kaggle->opendatasets) (2.31.0)\n",
      "Requirement already satisfied: webencodings in /Users/erlandekh/Library/Python/3.9/lib/python/site-packages (from bleach->kaggle->opendatasets) (0.5.1)\n",
      "Requirement already satisfied: text-unidecode>=1.3 in /Users/erlandekh/Library/Python/3.9/lib/python/site-packages (from python-slugify->kaggle->opendatasets) (1.3)\n",
      "Requirement already satisfied: idna<4,>=2.5 in /Users/erlandekh/Library/Python/3.9/lib/python/site-packages (from requests->kaggle->opendatasets) (3.4)\n",
      "Requirement already satisfied: charset-normalizer<4,>=2 in /Users/erlandekh/Library/Python/3.9/lib/python/site-packages (from requests->kaggle->opendatasets) (3.3.2)\n",
      "\n",
      "\u001b[1m[\u001b[0m\u001b[34;49mnotice\u001b[0m\u001b[1;39;49m]\u001b[0m\u001b[39;49m A new release of pip is available: \u001b[0m\u001b[31;49m23.0\u001b[0m\u001b[39;49m -> \u001b[0m\u001b[32;49m23.3.2\u001b[0m\n",
      "\u001b[1m[\u001b[0m\u001b[34;49mnotice\u001b[0m\u001b[1;39;49m]\u001b[0m\u001b[39;49m To update, run: \u001b[0m\u001b[32;49m/Library/Developer/CommandLineTools/usr/bin/python3 -m pip install --upgrade pip\u001b[0m\n"
     ]
    }
   ],
   "source": [
    "!pip install opendatasets --upgrade"
   ]
  },
  {
   "cell_type": "code",
   "execution_count": 6,
   "metadata": {
    "colab": {
     "base_uri": "https://localhost:8080/"
    },
    "id": "YI50Ywmj619G",
    "outputId": "358c86d4-66de-4999-e703-a6a01b3f93f5"
   },
   "outputs": [
    {
     "name": "stdout",
     "output_type": "stream",
     "text": [
      "Downloading from Google Drive (may take a while): https://drive.google.com/file/d/1ickQgC_oFq3dP3J76fRsB0esRGFaTRN_/view?usp=drive_link\n"
     ]
    },
    {
     "name": "stderr",
     "output_type": "stream",
     "text": [
      "19757155it [00:00, 2832205962.10it/s]\n"
     ]
    },
    {
     "name": "stdout",
     "output_type": "stream",
     "text": [
      "Downloaded and unzipped to  ./UK_Electricity_Demand_2009-2023\n"
     ]
    }
   ],
   "source": [
    "import opendatasets as od\n",
    "dataset_url = \"https://drive.google.com/file/d/1ickQgC_oFq3dP3J76fRsB0esRGFaTRN_/view?usp=drive_link\"\n",
    "od.download(dataset_url)"
   ]
  },
  {
   "cell_type": "code",
   "execution_count": 7,
   "metadata": {
    "id": "boSMFjbS6-Pi"
   },
   "outputs": [],
   "source": [
    "import pandas as pd\n",
    "df = pd.read_csv(\"UK_Electricity_Demand_2009-2023/historic_demand_2009_2023.csv\", index_col=0)\n",
    "\n",
    "# Change column names to lower case and drop id (row number)\n",
    "df.columns = df.columns.str.lower()\n",
    "\n",
    "# Take only date and electricity demand columns\n",
    "df2 = df[['settlement_date', 'settlement_period', 'england_wales_demand']]\n",
    "\n",
    "# Sort values by date\n",
    "df2 = df2.sort_values(\n",
    "    by=[\"settlement_date\", \"settlement_period\"], ignore_index=True\n",
    ")\n",
    "\n",
    "# Drop rows where settlement_period value is greater than 48\n",
    "df2 = df2.drop(index=df2[df2[\"settlement_period\"] > 48].index)\n",
    "\n",
    "df2 = df2.reset_index(drop=True)"
   ]
  },
  {
   "cell_type": "code",
   "execution_count": 8,
   "metadata": {
    "colab": {
     "base_uri": "https://localhost:8080/"
    },
    "id": "29XSKPpPtA6z",
    "outputId": "e444f6ef-04bb-4462-a8ed-cb4d33dbc18b"
   },
   "outputs": [
    {
     "data": {
      "text/plain": [
       "settlement_date         False\n",
       "settlement_period       False\n",
       "england_wales_demand    False\n",
       "dtype: bool"
      ]
     },
     "execution_count": 8,
     "metadata": {},
     "output_type": "execute_result"
    }
   ],
   "source": [
    "# Check for NaN values\n",
    "df2.isna().any()"
   ]
  },
  {
   "cell_type": "code",
   "execution_count": 9,
   "metadata": {
    "id": "BHqbS11Sz71v"
   },
   "outputs": [],
   "source": [
    "# Drop settlement_period column\n",
    "df3 = df2[['settlement_date', 'england_wales_demand']]"
   ]
  },
  {
   "cell_type": "code",
   "execution_count": 10,
   "metadata": {
    "id": "zAzfAeos9GtM"
   },
   "outputs": [],
   "source": [
    "# Calculate the daily averages\n",
    "k = 48 # Define the value of k which is the number of rows to average, since there are 48 measurements per day\n",
    "df3 = df3.groupby(df3.index // k).agg({'settlement_date': 'first', 'england_wales_demand': 'mean'})"
   ]
  },
  {
   "cell_type": "code",
   "execution_count": 11,
   "metadata": {
    "colab": {
     "base_uri": "https://localhost:8080/",
     "height": 424
    },
    "id": "WLD36fawq5BE",
    "outputId": "10ca53b0-1fe8-495b-f6be-dbf8aa081cf2"
   },
   "outputs": [
    {
     "data": {
      "text/html": [
       "<div>\n",
       "<style scoped>\n",
       "    .dataframe tbody tr th:only-of-type {\n",
       "        vertical-align: middle;\n",
       "    }\n",
       "\n",
       "    .dataframe tbody tr th {\n",
       "        vertical-align: top;\n",
       "    }\n",
       "\n",
       "    .dataframe thead th {\n",
       "        text-align: right;\n",
       "    }\n",
       "</style>\n",
       "<table border=\"1\" class=\"dataframe\">\n",
       "  <thead>\n",
       "    <tr style=\"text-align: right;\">\n",
       "      <th></th>\n",
       "      <th>settlement_date</th>\n",
       "      <th>england_wales_demand</th>\n",
       "    </tr>\n",
       "  </thead>\n",
       "  <tbody>\n",
       "    <tr>\n",
       "      <th>0</th>\n",
       "      <td>2009-01-01</td>\n",
       "      <td>33527.729167</td>\n",
       "    </tr>\n",
       "    <tr>\n",
       "      <th>1</th>\n",
       "      <td>2009-01-02</td>\n",
       "      <td>36087.083333</td>\n",
       "    </tr>\n",
       "    <tr>\n",
       "      <th>2</th>\n",
       "      <td>2009-01-03</td>\n",
       "      <td>35530.187500</td>\n",
       "    </tr>\n",
       "    <tr>\n",
       "      <th>3</th>\n",
       "      <td>2009-01-04</td>\n",
       "      <td>35889.770833</td>\n",
       "    </tr>\n",
       "    <tr>\n",
       "      <th>4</th>\n",
       "      <td>2009-01-05</td>\n",
       "      <td>41006.854167</td>\n",
       "    </tr>\n",
       "    <tr>\n",
       "      <th>...</th>\n",
       "      <td>...</td>\n",
       "      <td>...</td>\n",
       "    </tr>\n",
       "    <tr>\n",
       "      <th>5449</th>\n",
       "      <td>2023-12-03</td>\n",
       "      <td>31415.145833</td>\n",
       "    </tr>\n",
       "    <tr>\n",
       "      <th>5450</th>\n",
       "      <td>2023-12-04</td>\n",
       "      <td>31938.395833</td>\n",
       "    </tr>\n",
       "    <tr>\n",
       "      <th>5451</th>\n",
       "      <td>2023-12-05</td>\n",
       "      <td>32238.958333</td>\n",
       "    </tr>\n",
       "    <tr>\n",
       "      <th>5452</th>\n",
       "      <td>2023-12-06</td>\n",
       "      <td>31422.062500</td>\n",
       "    </tr>\n",
       "    <tr>\n",
       "      <th>5453</th>\n",
       "      <td>2023-12-07</td>\n",
       "      <td>34053.222222</td>\n",
       "    </tr>\n",
       "  </tbody>\n",
       "</table>\n",
       "<p>5454 rows × 2 columns</p>\n",
       "</div>"
      ],
      "text/plain": [
       "     settlement_date  england_wales_demand\n",
       "0         2009-01-01          33527.729167\n",
       "1         2009-01-02          36087.083333\n",
       "2         2009-01-03          35530.187500\n",
       "3         2009-01-04          35889.770833\n",
       "4         2009-01-05          41006.854167\n",
       "...              ...                   ...\n",
       "5449      2023-12-03          31415.145833\n",
       "5450      2023-12-04          31938.395833\n",
       "5451      2023-12-05          32238.958333\n",
       "5452      2023-12-06          31422.062500\n",
       "5453      2023-12-07          34053.222222\n",
       "\n",
       "[5454 rows x 2 columns]"
      ]
     },
     "execution_count": 11,
     "metadata": {},
     "output_type": "execute_result"
    }
   ],
   "source": [
    "df3"
   ]
  },
  {
   "cell_type": "code",
   "execution_count": 12,
   "metadata": {
    "colab": {
     "base_uri": "https://localhost:8080/"
    },
    "id": "jsNap8r1zG_3",
    "outputId": "1aa66390-615b-4329-f7b8-654caef27bd6"
   },
   "outputs": [
    {
     "name": "stdout",
     "output_type": "stream",
     "text": [
      "Defaulting to user installation because normal site-packages is not writeable\n",
      "Requirement already satisfied: openmeteo-requests in /Users/erlandekh/Library/Python/3.9/lib/python/site-packages (1.1.0)\n",
      "Requirement already satisfied: requests in /Users/erlandekh/Library/Python/3.9/lib/python/site-packages (from openmeteo-requests) (2.31.0)\n",
      "Requirement already satisfied: openmeteo-sdk>=1.4.0 in /Users/erlandekh/Library/Python/3.9/lib/python/site-packages (from openmeteo-requests) (1.7.1)\n",
      "Requirement already satisfied: flatbuffers>=23.0.0 in /Users/erlandekh/Library/Python/3.9/lib/python/site-packages (from openmeteo-sdk>=1.4.0->openmeteo-requests) (23.5.26)\n",
      "Requirement already satisfied: certifi>=2017.4.17 in /Users/erlandekh/Library/Python/3.9/lib/python/site-packages (from requests->openmeteo-requests) (2023.11.17)\n",
      "Requirement already satisfied: charset-normalizer<4,>=2 in /Users/erlandekh/Library/Python/3.9/lib/python/site-packages (from requests->openmeteo-requests) (3.3.2)\n",
      "Requirement already satisfied: urllib3<3,>=1.21.1 in /Users/erlandekh/Library/Python/3.9/lib/python/site-packages (from requests->openmeteo-requests) (1.26.18)\n",
      "Requirement already satisfied: idna<4,>=2.5 in /Users/erlandekh/Library/Python/3.9/lib/python/site-packages (from requests->openmeteo-requests) (3.4)\n",
      "\n",
      "\u001b[1m[\u001b[0m\u001b[34;49mnotice\u001b[0m\u001b[1;39;49m]\u001b[0m\u001b[39;49m A new release of pip is available: \u001b[0m\u001b[31;49m23.0\u001b[0m\u001b[39;49m -> \u001b[0m\u001b[32;49m23.3.2\u001b[0m\n",
      "\u001b[1m[\u001b[0m\u001b[34;49mnotice\u001b[0m\u001b[1;39;49m]\u001b[0m\u001b[39;49m To update, run: \u001b[0m\u001b[32;49m/Library/Developer/CommandLineTools/usr/bin/python3 -m pip install --upgrade pip\u001b[0m\n",
      "Defaulting to user installation because normal site-packages is not writeable\n",
      "Requirement already satisfied: requests-cache in /Users/erlandekh/Library/Python/3.9/lib/python/site-packages (1.1.1)\n",
      "Requirement already satisfied: retry-requests in /Users/erlandekh/Library/Python/3.9/lib/python/site-packages (2.0.0)\n",
      "Requirement already satisfied: numpy in /Users/erlandekh/Library/Python/3.9/lib/python/site-packages (1.22.4)\n",
      "Requirement already satisfied: pandas in /Users/erlandekh/Library/Python/3.9/lib/python/site-packages (1.5.2)\n",
      "Requirement already satisfied: urllib3>=1.25.5 in /Users/erlandekh/Library/Python/3.9/lib/python/site-packages (from requests-cache) (1.26.18)\n",
      "Requirement already satisfied: platformdirs>=2.5 in /Users/erlandekh/Library/Python/3.9/lib/python/site-packages (from requests-cache) (2.6.0)\n",
      "Requirement already satisfied: requests>=2.22 in /Users/erlandekh/Library/Python/3.9/lib/python/site-packages (from requests-cache) (2.31.0)\n",
      "Requirement already satisfied: cattrs>=22.2 in /Users/erlandekh/Library/Python/3.9/lib/python/site-packages (from requests-cache) (23.2.3)\n",
      "Requirement already satisfied: attrs>=21.2 in /Users/erlandekh/Library/Python/3.9/lib/python/site-packages (from requests-cache) (23.2.0)\n",
      "Requirement already satisfied: url-normalize>=1.4 in /Users/erlandekh/Library/Python/3.9/lib/python/site-packages (from requests-cache) (1.4.3)\n",
      "Requirement already satisfied: pytz>=2020.1 in /Users/erlandekh/Library/Python/3.9/lib/python/site-packages (from pandas) (2022.6)\n",
      "Requirement already satisfied: python-dateutil>=2.8.1 in /Users/erlandekh/Library/Python/3.9/lib/python/site-packages (from pandas) (2.8.2)\n",
      "Requirement already satisfied: exceptiongroup>=1.1.1 in /Users/erlandekh/Library/Python/3.9/lib/python/site-packages (from cattrs>=22.2->requests-cache) (1.1.3)\n",
      "Requirement already satisfied: typing-extensions!=4.6.3,>=4.1.0 in /Users/erlandekh/Library/Python/3.9/lib/python/site-packages (from cattrs>=22.2->requests-cache) (4.8.0)\n",
      "Requirement already satisfied: six>=1.5 in /Library/Developer/CommandLineTools/Library/Frameworks/Python3.framework/Versions/3.9/lib/python3.9/site-packages (from python-dateutil>=2.8.1->pandas) (1.15.0)\n",
      "Requirement already satisfied: charset-normalizer<4,>=2 in /Users/erlandekh/Library/Python/3.9/lib/python/site-packages (from requests>=2.22->requests-cache) (3.3.2)\n",
      "Requirement already satisfied: idna<4,>=2.5 in /Users/erlandekh/Library/Python/3.9/lib/python/site-packages (from requests>=2.22->requests-cache) (3.4)\n",
      "Requirement already satisfied: certifi>=2017.4.17 in /Users/erlandekh/Library/Python/3.9/lib/python/site-packages (from requests>=2.22->requests-cache) (2023.11.17)\n",
      "\n",
      "\u001b[1m[\u001b[0m\u001b[34;49mnotice\u001b[0m\u001b[1;39;49m]\u001b[0m\u001b[39;49m A new release of pip is available: \u001b[0m\u001b[31;49m23.0\u001b[0m\u001b[39;49m -> \u001b[0m\u001b[32;49m23.3.2\u001b[0m\n",
      "\u001b[1m[\u001b[0m\u001b[34;49mnotice\u001b[0m\u001b[1;39;49m]\u001b[0m\u001b[39;49m To update, run: \u001b[0m\u001b[32;49m/Library/Developer/CommandLineTools/usr/bin/python3 -m pip install --upgrade pip\u001b[0m\n"
     ]
    }
   ],
   "source": [
    "!pip install openmeteo-requests\n",
    "!pip install requests-cache retry-requests numpy pandas"
   ]
  },
  {
   "cell_type": "code",
   "execution_count": 13,
   "metadata": {
    "id": "v6HFmq3D2R8Q"
   },
   "outputs": [],
   "source": [
    "import openmeteo_requests\n",
    "\n",
    "import requests_cache\n",
    "import pandas as pd\n",
    "from retry_requests import retry\n",
    "\n",
    "# Setup the Open-Meteo API client with cache and retry on error\n",
    "cache_session = requests_cache.CachedSession('.cache', expire_after = -1)\n",
    "retry_session = retry(cache_session, retries = 5, backoff_factor = 0.2)\n",
    "openmeteo = openmeteo_requests.Client(session = retry_session)\n",
    "\n",
    "# Make sure all required weather variables are listed here\n",
    "# The order of variables in hourly or daily is important to assign them correctly below\n",
    "url = \"https://archive-api.open-meteo.com/v1/archive\"\n",
    "# take weather for urban cities with largest population in England (London, Birmingham, Manchester) and Wales (Cardiff, Swansea)\n",
    "params = {\n",
    "\t\"latitude\": [51.5085, 52.4814, 53.4809, 51.48, 51.6208],\n",
    "\t\"longitude\": [-0.1257, -1.8998, -2.2374, -3.18, -3.9432],\n",
    "\t\"start_date\": \"2009-01-01\",\n",
    "\t\"end_date\": \"2023-12-07\",\n",
    "\t\"daily\": [\"temperature_2m_mean\", \"sunshine_duration\", \"precipitation_sum\", \"precipitation_hours\", \"wind_speed_10m_max\"]\n",
    "}\n",
    "responses = openmeteo.weather_api(url, params=params)"
   ]
  },
  {
   "cell_type": "code",
   "execution_count": 14,
   "metadata": {
    "colab": {
     "base_uri": "https://localhost:8080/"
    },
    "id": "GIiIZwf140sr",
    "outputId": "90b56f83-0641-4c32-df89-20b3c7888ed6"
   },
   "outputs": [
    {
     "name": "stdout",
     "output_type": "stream",
     "text": [
      "Coordinates 51.49384689331055°E -0.16302490234375°N\n",
      "Elevation 23.0 m asl\n",
      "Timezone None None\n",
      "Timezone difference to GMT+0 0 s\n",
      "Coordinates 52.478031158447266°E -1.84014892578125°N\n",
      "Elevation 151.0 m asl\n",
      "Timezone None None\n",
      "Timezone difference to GMT+0 0 s\n",
      "Coordinates 53.46221160888672°E -2.232818603515625°N\n",
      "Elevation 48.0 m asl\n",
      "Timezone None None\n",
      "Timezone difference to GMT+0 0 s\n",
      "Coordinates 51.49384689331055°E -3.2608642578125°N\n",
      "Elevation 17.0 m asl\n",
      "Timezone None None\n",
      "Timezone difference to GMT+0 0 s\n",
      "Coordinates 51.63444519042969°E -3.927276611328125°N\n",
      "Elevation 19.0 m asl\n",
      "Timezone None None\n",
      "Timezone difference to GMT+0 0 s\n"
     ]
    }
   ],
   "source": [
    "# Process first location. Add a for-loop for multiple locations or weather models\n",
    "weather_dfs = {}\n",
    "for i, response in enumerate(responses):\n",
    "  print(f\"Coordinates {response.Latitude()}°E {response.Longitude()}°N\")\n",
    "  print(f\"Elevation {response.Elevation()} m asl\")\n",
    "  print(f\"Timezone {response.Timezone()} {response.TimezoneAbbreviation()}\")\n",
    "  print(f\"Timezone difference to GMT+0 {response.UtcOffsetSeconds()} s\")\n",
    "\n",
    "  # Process daily data. The order of variables needs to be the same as requested.\n",
    "  daily = response.Daily()\n",
    "  daily_temperature_2m_mean = daily.Variables(0).ValuesAsNumpy()\n",
    "  daily_sunshine_duration = daily.Variables(1).ValuesAsNumpy()\n",
    "  daily_precipitation_sum = daily.Variables(2).ValuesAsNumpy()\n",
    "  daily_precipitation_hours = daily.Variables(3).ValuesAsNumpy()\n",
    "  daily_wind_speed_10m_max = daily.Variables(4).ValuesAsNumpy()\n",
    "\n",
    "  daily_data = {\"date\": pd.date_range(\n",
    "    start = pd.to_datetime(daily.Time(), unit = \"s\"),\n",
    "    end = pd.to_datetime(daily.TimeEnd(), unit = \"s\"),\n",
    "    freq = pd.Timedelta(seconds = daily.Interval()),\n",
    "    inclusive = \"left\"\n",
    "  )}\n",
    "  daily_data[\"temperature_2m_mean\"] = daily_temperature_2m_mean\n",
    "  daily_data[\"sunshine_duration\"] = daily_sunshine_duration\n",
    "  daily_data[\"precipitation_sum\"] = daily_precipitation_sum\n",
    "  daily_data[\"precipitation_hours\"] = daily_precipitation_hours\n",
    "  daily_data[\"wind_speed_10m_max\"] = daily_wind_speed_10m_max\n",
    "\n",
    "  weather_dfs[i] = pd.DataFrame(data = daily_data)"
   ]
  },
  {
   "cell_type": "code",
   "execution_count": 15,
   "metadata": {
    "id": "NJ8m93rF6oAh"
   },
   "outputs": [],
   "source": [
    "for key, weather_df in weather_dfs.items():\n",
    "  weather_dfs[key] = weather_df.drop('date', axis=1)\n",
    "\n",
    "weather_df = pd.concat(weather_dfs.values()).groupby(level=0).mean()"
   ]
  },
  {
   "cell_type": "code",
   "execution_count": 16,
   "metadata": {
    "colab": {
     "base_uri": "https://localhost:8080/",
     "height": 424
    },
    "id": "jtpoTYLG8hEO",
    "outputId": "4997e569-2bdb-44b8-e14f-b1896fcc89b9"
   },
   "outputs": [
    {
     "data": {
      "text/html": [
       "<div>\n",
       "<style scoped>\n",
       "    .dataframe tbody tr th:only-of-type {\n",
       "        vertical-align: middle;\n",
       "    }\n",
       "\n",
       "    .dataframe tbody tr th {\n",
       "        vertical-align: top;\n",
       "    }\n",
       "\n",
       "    .dataframe thead th {\n",
       "        text-align: right;\n",
       "    }\n",
       "</style>\n",
       "<table border=\"1\" class=\"dataframe\">\n",
       "  <thead>\n",
       "    <tr style=\"text-align: right;\">\n",
       "      <th></th>\n",
       "      <th>temperature_2m_mean</th>\n",
       "      <th>sunshine_duration</th>\n",
       "      <th>precipitation_sum</th>\n",
       "      <th>precipitation_hours</th>\n",
       "      <th>wind_speed_10m_max</th>\n",
       "    </tr>\n",
       "  </thead>\n",
       "  <tbody>\n",
       "    <tr>\n",
       "      <th>0</th>\n",
       "      <td>-0.909717</td>\n",
       "      <td>13247.744141</td>\n",
       "      <td>0.000000</td>\n",
       "      <td>0.000000</td>\n",
       "      <td>12.922569</td>\n",
       "    </tr>\n",
       "    <tr>\n",
       "      <th>1</th>\n",
       "      <td>0.794867</td>\n",
       "      <td>21326.273438</td>\n",
       "      <td>0.000000</td>\n",
       "      <td>0.000000</td>\n",
       "      <td>16.436434</td>\n",
       "    </tr>\n",
       "    <tr>\n",
       "      <th>2</th>\n",
       "      <td>-0.980133</td>\n",
       "      <td>22530.511719</td>\n",
       "      <td>0.000000</td>\n",
       "      <td>0.000000</td>\n",
       "      <td>14.343750</td>\n",
       "    </tr>\n",
       "    <tr>\n",
       "      <th>3</th>\n",
       "      <td>-0.389300</td>\n",
       "      <td>3503.359863</td>\n",
       "      <td>0.000000</td>\n",
       "      <td>0.000000</td>\n",
       "      <td>12.134109</td>\n",
       "    </tr>\n",
       "    <tr>\n",
       "      <th>4</th>\n",
       "      <td>0.167367</td>\n",
       "      <td>22396.291016</td>\n",
       "      <td>0.600000</td>\n",
       "      <td>2.000000</td>\n",
       "      <td>22.092697</td>\n",
       "    </tr>\n",
       "    <tr>\n",
       "      <th>...</th>\n",
       "      <td>...</td>\n",
       "      <td>...</td>\n",
       "      <td>...</td>\n",
       "      <td>...</td>\n",
       "      <td>...</td>\n",
       "    </tr>\n",
       "    <tr>\n",
       "      <th>5449</th>\n",
       "      <td>4.116700</td>\n",
       "      <td>1029.600830</td>\n",
       "      <td>10.760000</td>\n",
       "      <td>16.799999</td>\n",
       "      <td>19.022980</td>\n",
       "    </tr>\n",
       "    <tr>\n",
       "      <th>5450</th>\n",
       "      <td>5.467534</td>\n",
       "      <td>0.000000</td>\n",
       "      <td>15.300000</td>\n",
       "      <td>16.799999</td>\n",
       "      <td>23.029873</td>\n",
       "    </tr>\n",
       "    <tr>\n",
       "      <th>5451</th>\n",
       "      <td>3.772533</td>\n",
       "      <td>10336.167969</td>\n",
       "      <td>3.040000</td>\n",
       "      <td>8.200000</td>\n",
       "      <td>16.716038</td>\n",
       "    </tr>\n",
       "    <tr>\n",
       "      <th>5452</th>\n",
       "      <td>2.434617</td>\n",
       "      <td>14383.872070</td>\n",
       "      <td>1.560000</td>\n",
       "      <td>3.400000</td>\n",
       "      <td>22.205179</td>\n",
       "    </tr>\n",
       "    <tr>\n",
       "      <th>5453</th>\n",
       "      <td>7.305033</td>\n",
       "      <td>0.000000</td>\n",
       "      <td>13.580002</td>\n",
       "      <td>17.000000</td>\n",
       "      <td>30.865070</td>\n",
       "    </tr>\n",
       "  </tbody>\n",
       "</table>\n",
       "<p>5454 rows × 5 columns</p>\n",
       "</div>"
      ],
      "text/plain": [
       "      temperature_2m_mean  sunshine_duration  precipitation_sum  \\\n",
       "0               -0.909717       13247.744141           0.000000   \n",
       "1                0.794867       21326.273438           0.000000   \n",
       "2               -0.980133       22530.511719           0.000000   \n",
       "3               -0.389300        3503.359863           0.000000   \n",
       "4                0.167367       22396.291016           0.600000   \n",
       "...                   ...                ...                ...   \n",
       "5449             4.116700        1029.600830          10.760000   \n",
       "5450             5.467534           0.000000          15.300000   \n",
       "5451             3.772533       10336.167969           3.040000   \n",
       "5452             2.434617       14383.872070           1.560000   \n",
       "5453             7.305033           0.000000          13.580002   \n",
       "\n",
       "      precipitation_hours  wind_speed_10m_max  \n",
       "0                0.000000           12.922569  \n",
       "1                0.000000           16.436434  \n",
       "2                0.000000           14.343750  \n",
       "3                0.000000           12.134109  \n",
       "4                2.000000           22.092697  \n",
       "...                   ...                 ...  \n",
       "5449            16.799999           19.022980  \n",
       "5450            16.799999           23.029873  \n",
       "5451             8.200000           16.716038  \n",
       "5452             3.400000           22.205179  \n",
       "5453            17.000000           30.865070  \n",
       "\n",
       "[5454 rows x 5 columns]"
      ]
     },
     "execution_count": 16,
     "metadata": {},
     "output_type": "execute_result"
    }
   ],
   "source": [
    "weather_df"
   ]
  },
  {
   "cell_type": "code",
   "execution_count": 17,
   "metadata": {
    "id": "tKhLYQnH8hxl"
   },
   "outputs": [],
   "source": [
    "combined_df = pd.concat([df3, weather_df], axis=1)"
   ]
  },
  {
   "cell_type": "code",
   "execution_count": 18,
   "metadata": {},
   "outputs": [
    {
     "data": {
      "text/html": [
       "<div>\n",
       "<style scoped>\n",
       "    .dataframe tbody tr th:only-of-type {\n",
       "        vertical-align: middle;\n",
       "    }\n",
       "\n",
       "    .dataframe tbody tr th {\n",
       "        vertical-align: top;\n",
       "    }\n",
       "\n",
       "    .dataframe thead th {\n",
       "        text-align: right;\n",
       "    }\n",
       "</style>\n",
       "<table border=\"1\" class=\"dataframe\">\n",
       "  <thead>\n",
       "    <tr style=\"text-align: right;\">\n",
       "      <th></th>\n",
       "      <th>settlement_date</th>\n",
       "      <th>england_wales_demand</th>\n",
       "      <th>temperature_2m_mean</th>\n",
       "      <th>sunshine_duration</th>\n",
       "      <th>precipitation_sum</th>\n",
       "      <th>precipitation_hours</th>\n",
       "      <th>wind_speed_10m_max</th>\n",
       "    </tr>\n",
       "  </thead>\n",
       "  <tbody>\n",
       "    <tr>\n",
       "      <th>0</th>\n",
       "      <td>2009-01-01</td>\n",
       "      <td>33527.729167</td>\n",
       "      <td>-0.909717</td>\n",
       "      <td>13247.744141</td>\n",
       "      <td>0.000000</td>\n",
       "      <td>0.000000</td>\n",
       "      <td>12.922569</td>\n",
       "    </tr>\n",
       "    <tr>\n",
       "      <th>1</th>\n",
       "      <td>2009-01-02</td>\n",
       "      <td>36087.083333</td>\n",
       "      <td>0.794867</td>\n",
       "      <td>21326.273438</td>\n",
       "      <td>0.000000</td>\n",
       "      <td>0.000000</td>\n",
       "      <td>16.436434</td>\n",
       "    </tr>\n",
       "    <tr>\n",
       "      <th>2</th>\n",
       "      <td>2009-01-03</td>\n",
       "      <td>35530.187500</td>\n",
       "      <td>-0.980133</td>\n",
       "      <td>22530.511719</td>\n",
       "      <td>0.000000</td>\n",
       "      <td>0.000000</td>\n",
       "      <td>14.343750</td>\n",
       "    </tr>\n",
       "    <tr>\n",
       "      <th>3</th>\n",
       "      <td>2009-01-04</td>\n",
       "      <td>35889.770833</td>\n",
       "      <td>-0.389300</td>\n",
       "      <td>3503.359863</td>\n",
       "      <td>0.000000</td>\n",
       "      <td>0.000000</td>\n",
       "      <td>12.134109</td>\n",
       "    </tr>\n",
       "    <tr>\n",
       "      <th>4</th>\n",
       "      <td>2009-01-05</td>\n",
       "      <td>41006.854167</td>\n",
       "      <td>0.167367</td>\n",
       "      <td>22396.291016</td>\n",
       "      <td>0.600000</td>\n",
       "      <td>2.000000</td>\n",
       "      <td>22.092697</td>\n",
       "    </tr>\n",
       "    <tr>\n",
       "      <th>...</th>\n",
       "      <td>...</td>\n",
       "      <td>...</td>\n",
       "      <td>...</td>\n",
       "      <td>...</td>\n",
       "      <td>...</td>\n",
       "      <td>...</td>\n",
       "      <td>...</td>\n",
       "    </tr>\n",
       "    <tr>\n",
       "      <th>5449</th>\n",
       "      <td>2023-12-03</td>\n",
       "      <td>31415.145833</td>\n",
       "      <td>4.116700</td>\n",
       "      <td>1029.600830</td>\n",
       "      <td>10.760000</td>\n",
       "      <td>16.799999</td>\n",
       "      <td>19.022980</td>\n",
       "    </tr>\n",
       "    <tr>\n",
       "      <th>5450</th>\n",
       "      <td>2023-12-04</td>\n",
       "      <td>31938.395833</td>\n",
       "      <td>5.467534</td>\n",
       "      <td>0.000000</td>\n",
       "      <td>15.300000</td>\n",
       "      <td>16.799999</td>\n",
       "      <td>23.029873</td>\n",
       "    </tr>\n",
       "    <tr>\n",
       "      <th>5451</th>\n",
       "      <td>2023-12-05</td>\n",
       "      <td>32238.958333</td>\n",
       "      <td>3.772533</td>\n",
       "      <td>10336.167969</td>\n",
       "      <td>3.040000</td>\n",
       "      <td>8.200000</td>\n",
       "      <td>16.716038</td>\n",
       "    </tr>\n",
       "    <tr>\n",
       "      <th>5452</th>\n",
       "      <td>2023-12-06</td>\n",
       "      <td>31422.062500</td>\n",
       "      <td>2.434617</td>\n",
       "      <td>14383.872070</td>\n",
       "      <td>1.560000</td>\n",
       "      <td>3.400000</td>\n",
       "      <td>22.205179</td>\n",
       "    </tr>\n",
       "    <tr>\n",
       "      <th>5453</th>\n",
       "      <td>2023-12-07</td>\n",
       "      <td>34053.222222</td>\n",
       "      <td>7.305033</td>\n",
       "      <td>0.000000</td>\n",
       "      <td>13.580002</td>\n",
       "      <td>17.000000</td>\n",
       "      <td>30.865070</td>\n",
       "    </tr>\n",
       "  </tbody>\n",
       "</table>\n",
       "<p>5454 rows × 7 columns</p>\n",
       "</div>"
      ],
      "text/plain": [
       "     settlement_date  england_wales_demand  temperature_2m_mean  \\\n",
       "0         2009-01-01          33527.729167            -0.909717   \n",
       "1         2009-01-02          36087.083333             0.794867   \n",
       "2         2009-01-03          35530.187500            -0.980133   \n",
       "3         2009-01-04          35889.770833            -0.389300   \n",
       "4         2009-01-05          41006.854167             0.167367   \n",
       "...              ...                   ...                  ...   \n",
       "5449      2023-12-03          31415.145833             4.116700   \n",
       "5450      2023-12-04          31938.395833             5.467534   \n",
       "5451      2023-12-05          32238.958333             3.772533   \n",
       "5452      2023-12-06          31422.062500             2.434617   \n",
       "5453      2023-12-07          34053.222222             7.305033   \n",
       "\n",
       "      sunshine_duration  precipitation_sum  precipitation_hours  \\\n",
       "0          13247.744141           0.000000             0.000000   \n",
       "1          21326.273438           0.000000             0.000000   \n",
       "2          22530.511719           0.000000             0.000000   \n",
       "3           3503.359863           0.000000             0.000000   \n",
       "4          22396.291016           0.600000             2.000000   \n",
       "...                 ...                ...                  ...   \n",
       "5449        1029.600830          10.760000            16.799999   \n",
       "5450           0.000000          15.300000            16.799999   \n",
       "5451       10336.167969           3.040000             8.200000   \n",
       "5452       14383.872070           1.560000             3.400000   \n",
       "5453           0.000000          13.580002            17.000000   \n",
       "\n",
       "      wind_speed_10m_max  \n",
       "0              12.922569  \n",
       "1              16.436434  \n",
       "2              14.343750  \n",
       "3              12.134109  \n",
       "4              22.092697  \n",
       "...                  ...  \n",
       "5449           19.022980  \n",
       "5450           23.029873  \n",
       "5451           16.716038  \n",
       "5452           22.205179  \n",
       "5453           30.865070  \n",
       "\n",
       "[5454 rows x 7 columns]"
      ]
     },
     "execution_count": 18,
     "metadata": {},
     "output_type": "execute_result"
    }
   ],
   "source": [
    "combined_df"
   ]
  },
  {
   "cell_type": "code",
   "execution_count": 19,
   "metadata": {},
   "outputs": [],
   "source": [
    "final_df = combined_df.copy()\n",
    "final_df = combined_df.drop(['settlement_date'], axis=1)"
   ]
  },
  {
   "cell_type": "code",
   "execution_count": 20,
   "metadata": {},
   "outputs": [
    {
     "data": {
      "text/html": [
       "<div>\n",
       "<style scoped>\n",
       "    .dataframe tbody tr th:only-of-type {\n",
       "        vertical-align: middle;\n",
       "    }\n",
       "\n",
       "    .dataframe tbody tr th {\n",
       "        vertical-align: top;\n",
       "    }\n",
       "\n",
       "    .dataframe thead th {\n",
       "        text-align: right;\n",
       "    }\n",
       "</style>\n",
       "<table border=\"1\" class=\"dataframe\">\n",
       "  <thead>\n",
       "    <tr style=\"text-align: right;\">\n",
       "      <th></th>\n",
       "      <th>england_wales_demand</th>\n",
       "      <th>temperature_2m_mean</th>\n",
       "      <th>sunshine_duration</th>\n",
       "      <th>precipitation_sum</th>\n",
       "      <th>precipitation_hours</th>\n",
       "      <th>wind_speed_10m_max</th>\n",
       "    </tr>\n",
       "  </thead>\n",
       "  <tbody>\n",
       "    <tr>\n",
       "      <th>0</th>\n",
       "      <td>33527.729167</td>\n",
       "      <td>-0.909717</td>\n",
       "      <td>13247.744141</td>\n",
       "      <td>0.000000</td>\n",
       "      <td>0.000000</td>\n",
       "      <td>12.922569</td>\n",
       "    </tr>\n",
       "    <tr>\n",
       "      <th>1</th>\n",
       "      <td>36087.083333</td>\n",
       "      <td>0.794867</td>\n",
       "      <td>21326.273438</td>\n",
       "      <td>0.000000</td>\n",
       "      <td>0.000000</td>\n",
       "      <td>16.436434</td>\n",
       "    </tr>\n",
       "    <tr>\n",
       "      <th>2</th>\n",
       "      <td>35530.187500</td>\n",
       "      <td>-0.980133</td>\n",
       "      <td>22530.511719</td>\n",
       "      <td>0.000000</td>\n",
       "      <td>0.000000</td>\n",
       "      <td>14.343750</td>\n",
       "    </tr>\n",
       "    <tr>\n",
       "      <th>3</th>\n",
       "      <td>35889.770833</td>\n",
       "      <td>-0.389300</td>\n",
       "      <td>3503.359863</td>\n",
       "      <td>0.000000</td>\n",
       "      <td>0.000000</td>\n",
       "      <td>12.134109</td>\n",
       "    </tr>\n",
       "    <tr>\n",
       "      <th>4</th>\n",
       "      <td>41006.854167</td>\n",
       "      <td>0.167367</td>\n",
       "      <td>22396.291016</td>\n",
       "      <td>0.600000</td>\n",
       "      <td>2.000000</td>\n",
       "      <td>22.092697</td>\n",
       "    </tr>\n",
       "    <tr>\n",
       "      <th>...</th>\n",
       "      <td>...</td>\n",
       "      <td>...</td>\n",
       "      <td>...</td>\n",
       "      <td>...</td>\n",
       "      <td>...</td>\n",
       "      <td>...</td>\n",
       "    </tr>\n",
       "    <tr>\n",
       "      <th>5449</th>\n",
       "      <td>31415.145833</td>\n",
       "      <td>4.116700</td>\n",
       "      <td>1029.600830</td>\n",
       "      <td>10.760000</td>\n",
       "      <td>16.799999</td>\n",
       "      <td>19.022980</td>\n",
       "    </tr>\n",
       "    <tr>\n",
       "      <th>5450</th>\n",
       "      <td>31938.395833</td>\n",
       "      <td>5.467534</td>\n",
       "      <td>0.000000</td>\n",
       "      <td>15.300000</td>\n",
       "      <td>16.799999</td>\n",
       "      <td>23.029873</td>\n",
       "    </tr>\n",
       "    <tr>\n",
       "      <th>5451</th>\n",
       "      <td>32238.958333</td>\n",
       "      <td>3.772533</td>\n",
       "      <td>10336.167969</td>\n",
       "      <td>3.040000</td>\n",
       "      <td>8.200000</td>\n",
       "      <td>16.716038</td>\n",
       "    </tr>\n",
       "    <tr>\n",
       "      <th>5452</th>\n",
       "      <td>31422.062500</td>\n",
       "      <td>2.434617</td>\n",
       "      <td>14383.872070</td>\n",
       "      <td>1.560000</td>\n",
       "      <td>3.400000</td>\n",
       "      <td>22.205179</td>\n",
       "    </tr>\n",
       "    <tr>\n",
       "      <th>5453</th>\n",
       "      <td>34053.222222</td>\n",
       "      <td>7.305033</td>\n",
       "      <td>0.000000</td>\n",
       "      <td>13.580002</td>\n",
       "      <td>17.000000</td>\n",
       "      <td>30.865070</td>\n",
       "    </tr>\n",
       "  </tbody>\n",
       "</table>\n",
       "<p>5454 rows × 6 columns</p>\n",
       "</div>"
      ],
      "text/plain": [
       "      england_wales_demand  temperature_2m_mean  sunshine_duration  \\\n",
       "0             33527.729167            -0.909717       13247.744141   \n",
       "1             36087.083333             0.794867       21326.273438   \n",
       "2             35530.187500            -0.980133       22530.511719   \n",
       "3             35889.770833            -0.389300        3503.359863   \n",
       "4             41006.854167             0.167367       22396.291016   \n",
       "...                    ...                  ...                ...   \n",
       "5449          31415.145833             4.116700        1029.600830   \n",
       "5450          31938.395833             5.467534           0.000000   \n",
       "5451          32238.958333             3.772533       10336.167969   \n",
       "5452          31422.062500             2.434617       14383.872070   \n",
       "5453          34053.222222             7.305033           0.000000   \n",
       "\n",
       "      precipitation_sum  precipitation_hours  wind_speed_10m_max  \n",
       "0              0.000000             0.000000           12.922569  \n",
       "1              0.000000             0.000000           16.436434  \n",
       "2              0.000000             0.000000           14.343750  \n",
       "3              0.000000             0.000000           12.134109  \n",
       "4              0.600000             2.000000           22.092697  \n",
       "...                 ...                  ...                 ...  \n",
       "5449          10.760000            16.799999           19.022980  \n",
       "5450          15.300000            16.799999           23.029873  \n",
       "5451           3.040000             8.200000           16.716038  \n",
       "5452           1.560000             3.400000           22.205179  \n",
       "5453          13.580002            17.000000           30.865070  \n",
       "\n",
       "[5454 rows x 6 columns]"
      ]
     },
     "execution_count": 20,
     "metadata": {},
     "output_type": "execute_result"
    }
   ],
   "source": [
    "final_df"
   ]
  },
  {
   "cell_type": "code",
   "execution_count": 26,
   "metadata": {},
   "outputs": [
    {
     "data": {
      "text/plain": [
       "32275.458333    2\n",
       "29224.666667    2\n",
       "27105.750000    2\n",
       "24182.354167    2\n",
       "33746.312500    2\n",
       "               ..\n",
       "30452.687500    1\n",
       "33484.541667    1\n",
       "30276.750000    1\n",
       "30655.083333    1\n",
       "34053.222222    1\n",
       "Name: england_wales_demand, Length: 5435, dtype: int64"
      ]
     },
     "execution_count": 26,
     "metadata": {},
     "output_type": "execute_result"
    }
   ],
   "source": [
    "final_df['england_wales_demand'].value_counts()"
   ]
  },
  {
   "cell_type": "code",
   "execution_count": 21,
   "metadata": {
    "colab": {
     "base_uri": "https://localhost:8080/",
     "height": 466
    },
    "id": "DP-2KFxA-mp9",
    "outputId": "8f4db895-80db-4579-f034-f76a52578179"
   },
   "outputs": [
    {
     "data": {
      "text/plain": [
       "<AxesSubplot: title={'center': 'England Wales Demand'}, xlabel='settlement_date'>"
      ]
     },
     "execution_count": 21,
     "metadata": {},
     "output_type": "execute_result"
    }
   ],
   "source": [
    "import seaborn as sns\n",
    "import matplotlib.pyplot as plt\n",
    "\n",
    "# Set date as the index and turn into datetime type\n",
    "df_plot = combined_df.copy()\n",
    "df_plot = df_plot.set_index(\"settlement_date\")\n",
    "df_plot.index = pd.to_datetime(df_plot.index)\n",
    "\n",
    "fig, ax = plt.subplots(figsize=(15, 5))\n",
    "df_plot[\"england_wales_demand\"].plot(\n",
    "    style=\".\", ax=ax, title=\"England Wales Demand\", label=\"Timeries data\"\n",
    ")\n"
   ]
  },
  {
   "cell_type": "markdown",
   "metadata": {
    "id": "TCKRT7IgFBq3"
   },
   "source": [
    "# Exploratory Data Analysis (EDA) our Electricity Demand dataset\n",
    "Let's look at the distribution and range of values for the 7 different features\n",
    "\n",
    "- temperature_2m_mean\n",
    "- sunshine_duration\n",
    "- precipitation_sum\n",
    "- precipitation_hours\n",
    "- wind_speed_10m_max\n",
    "\n",
    "and the target variable is england_wales_demand.\n"
   ]
  },
  {
   "cell_type": "code",
   "execution_count": 22,
   "metadata": {
    "colab": {
     "base_uri": "https://localhost:8080/",
     "height": 1000
    },
    "id": "6C3FThHnEjvT",
    "outputId": "b2ae4bfa-3f82-46c9-e720-f605a5093584"
   },
   "outputs": [
    {
     "name": "stderr",
     "output_type": "stream",
     "text": [
      "UserWarning: Matplotlib is currently using agg, which is a non-GUI backend, so cannot show the figure.\n"
     ]
    }
   ],
   "source": [
    "g = sns.pairplot(combined_df, hue='england_wales_demand', markers='+')\n",
    "plt.show()"
   ]
  },
  {
   "cell_type": "code",
   "execution_count": 23,
   "metadata": {
    "colab": {
     "base_uri": "https://localhost:8080/",
     "height": 1000
    },
    "id": "TtDZuHlfneqq",
    "outputId": "8765c7be-6226-46f7-f1d7-88449f468045"
   },
   "outputs": [
    {
     "name": "stdout",
     "output_type": "stream",
     "text": [
      "Defaulting to user installation because normal site-packages is not writeable\n",
      "Requirement already satisfied: hopsworks in /Users/erlandekh/Library/Python/3.9/lib/python/site-packages (3.4.3)\n",
      "Requirement already satisfied: pyjks in /Users/erlandekh/Library/Python/3.9/lib/python/site-packages (from hopsworks) (20.0.0)\n",
      "Requirement already satisfied: hsfs[python]<3.5.0,>=3.4.0 in /Users/erlandekh/Library/Python/3.9/lib/python/site-packages (from hopsworks) (3.4.4)\n",
      "Requirement already satisfied: requests in /Users/erlandekh/Library/Python/3.9/lib/python/site-packages (from hopsworks) (2.31.0)\n",
      "Requirement already satisfied: hsml<3.5.0,>=3.4.0 in /Users/erlandekh/Library/Python/3.9/lib/python/site-packages (from hopsworks) (3.4.5)\n",
      "Requirement already satisfied: mock in /Users/erlandekh/Library/Python/3.9/lib/python/site-packages (from hopsworks) (5.1.0)\n",
      "Requirement already satisfied: furl in /Users/erlandekh/Library/Python/3.9/lib/python/site-packages (from hopsworks) (2.1.3)\n",
      "Requirement already satisfied: pyhumps==1.6.1 in /Users/erlandekh/Library/Python/3.9/lib/python/site-packages (from hopsworks) (1.6.1)\n",
      "Requirement already satisfied: tqdm in /Users/erlandekh/Library/Python/3.9/lib/python/site-packages (from hopsworks) (4.66.1)\n",
      "Requirement already satisfied: boto3 in /Users/erlandekh/Library/Python/3.9/lib/python/site-packages (from hopsworks) (1.29.3)\n",
      "Requirement already satisfied: markupsafe<2.1.0 in /Users/erlandekh/Library/Python/3.9/lib/python/site-packages (from hsfs[python]<3.5.0,>=3.4.0->hopsworks) (2.0.1)\n",
      "Requirement already satisfied: pandas<2.1.0 in /Users/erlandekh/Library/Python/3.9/lib/python/site-packages (from hsfs[python]<3.5.0,>=3.4.0->hopsworks) (1.5.2)\n",
      "Requirement already satisfied: fsspec in /Users/erlandekh/Library/Python/3.9/lib/python/site-packages (from hsfs[python]<3.5.0,>=3.4.0->hopsworks) (2023.10.0)\n",
      "Requirement already satisfied: numpy in /Users/erlandekh/Library/Python/3.9/lib/python/site-packages (from hsfs[python]<3.5.0,>=3.4.0->hopsworks) (1.22.4)\n",
      "Requirement already satisfied: avro==1.11.0 in /Users/erlandekh/Library/Python/3.9/lib/python/site-packages (from hsfs[python]<3.5.0,>=3.4.0->hopsworks) (1.11.0)\n",
      "Requirement already satisfied: tzlocal in /Users/erlandekh/Library/Python/3.9/lib/python/site-packages (from hsfs[python]<3.5.0,>=3.4.0->hopsworks) (5.2)\n",
      "Requirement already satisfied: sqlalchemy in /Users/erlandekh/Library/Python/3.9/lib/python/site-packages (from hsfs[python]<3.5.0,>=3.4.0->hopsworks) (2.0.23)\n",
      "Requirement already satisfied: great-expectations==0.14.13 in /Users/erlandekh/Library/Python/3.9/lib/python/site-packages (from hsfs[python]<3.5.0,>=3.4.0->hopsworks) (0.14.13)\n",
      "Requirement already satisfied: PyMySQL[rsa] in /Users/erlandekh/Library/Python/3.9/lib/python/site-packages (from hsfs[python]<3.5.0,>=3.4.0->hopsworks) (1.1.0)\n",
      "Requirement already satisfied: pyhopshive[thrift] in /Users/erlandekh/Library/Python/3.9/lib/python/site-packages (from hsfs[python]<3.5.0,>=3.4.0->hopsworks) (0.6.4.1.dev0)\n",
      "Requirement already satisfied: pyarrow>=10.0 in /Users/erlandekh/Library/Python/3.9/lib/python/site-packages (from hsfs[python]<3.5.0,>=3.4.0->hopsworks) (14.0.1)\n",
      "Requirement already satisfied: fastavro<=1.8.2,>=1.4.11 in /Users/erlandekh/Library/Python/3.9/lib/python/site-packages (from hsfs[python]<3.5.0,>=3.4.0->hopsworks) (1.8.2)\n",
      "Requirement already satisfied: confluent-kafka<=2.1.1 in /Users/erlandekh/Library/Python/3.9/lib/python/site-packages (from hsfs[python]<3.5.0,>=3.4.0->hopsworks) (2.1.1)\n",
      "Requirement already satisfied: typing-extensions>=3.10.0.0 in /Users/erlandekh/Library/Python/3.9/lib/python/site-packages (from great-expectations==0.14.13->hsfs[python]<3.5.0,>=3.4.0->hopsworks) (4.8.0)\n",
      "Requirement already satisfied: urllib3<1.27,>=1.25.4 in /Users/erlandekh/Library/Python/3.9/lib/python/site-packages (from great-expectations==0.14.13->hsfs[python]<3.5.0,>=3.4.0->hopsworks) (1.26.18)\n",
      "Requirement already satisfied: dataclasses in /Users/erlandekh/Library/Python/3.9/lib/python/site-packages (from great-expectations==0.14.13->hsfs[python]<3.5.0,>=3.4.0->hopsworks) (0.6)\n",
      "Requirement already satisfied: jsonschema>=2.5.1 in /Users/erlandekh/Library/Python/3.9/lib/python/site-packages (from great-expectations==0.14.13->hsfs[python]<3.5.0,>=3.4.0->hopsworks) (4.17.3)\n",
      "Requirement already satisfied: altair<5,>=4.0.0 in /Users/erlandekh/Library/Python/3.9/lib/python/site-packages (from great-expectations==0.14.13->hsfs[python]<3.5.0,>=3.4.0->hopsworks) (4.2.2)\n",
      "Requirement already satisfied: jsonpatch>=1.22 in /Users/erlandekh/Library/Python/3.9/lib/python/site-packages (from great-expectations==0.14.13->hsfs[python]<3.5.0,>=3.4.0->hopsworks) (1.33)\n",
      "Requirement already satisfied: colorama>=0.4.3 in /Users/erlandekh/Library/Python/3.9/lib/python/site-packages (from great-expectations==0.14.13->hsfs[python]<3.5.0,>=3.4.0->hopsworks) (0.4.6)\n",
      "Requirement already satisfied: ruamel.yaml<0.17.18,>=0.16 in /Users/erlandekh/Library/Python/3.9/lib/python/site-packages (from great-expectations==0.14.13->hsfs[python]<3.5.0,>=3.4.0->hopsworks) (0.17.17)\n",
      "Requirement already satisfied: python-dateutil>=2.8.1 in /Users/erlandekh/Library/Python/3.9/lib/python/site-packages (from great-expectations==0.14.13->hsfs[python]<3.5.0,>=3.4.0->hopsworks) (2.8.2)\n",
      "Requirement already satisfied: Click>=7.1.2 in /Users/erlandekh/Library/Python/3.9/lib/python/site-packages (from great-expectations==0.14.13->hsfs[python]<3.5.0,>=3.4.0->hopsworks) (8.1.7)\n",
      "Requirement already satisfied: jinja2<3.1.0,>=2.10 in /Users/erlandekh/Library/Python/3.9/lib/python/site-packages (from great-expectations==0.14.13->hsfs[python]<3.5.0,>=3.4.0->hopsworks) (3.0.3)\n",
      "Requirement already satisfied: pyparsing<3,>=2.4 in /Users/erlandekh/Library/Python/3.9/lib/python/site-packages (from great-expectations==0.14.13->hsfs[python]<3.5.0,>=3.4.0->hopsworks) (2.4.7)\n",
      "Requirement already satisfied: mistune>=0.8.4 in /Users/erlandekh/Library/Python/3.9/lib/python/site-packages (from great-expectations==0.14.13->hsfs[python]<3.5.0,>=3.4.0->hopsworks) (2.0.4)\n",
      "Requirement already satisfied: pytz>=2021.3 in /Users/erlandekh/Library/Python/3.9/lib/python/site-packages (from great-expectations==0.14.13->hsfs[python]<3.5.0,>=3.4.0->hopsworks) (2022.6)\n",
      "Requirement already satisfied: scipy>=0.19.0 in /Users/erlandekh/Library/Python/3.9/lib/python/site-packages (from great-expectations==0.14.13->hsfs[python]<3.5.0,>=3.4.0->hopsworks) (1.9.3)\n",
      "Requirement already satisfied: importlib-metadata>=1.7.0 in /Users/erlandekh/Library/Python/3.9/lib/python/site-packages (from great-expectations==0.14.13->hsfs[python]<3.5.0,>=3.4.0->hopsworks) (5.1.0)\n",
      "Requirement already satisfied: Ipython>=7.16.3 in /Users/erlandekh/Library/Python/3.9/lib/python/site-packages (from great-expectations==0.14.13->hsfs[python]<3.5.0,>=3.4.0->hopsworks) (8.7.0)\n",
      "Requirement already satisfied: cryptography>=3.2 in /Users/erlandekh/Library/Python/3.9/lib/python/site-packages (from great-expectations==0.14.13->hsfs[python]<3.5.0,>=3.4.0->hopsworks) (41.0.5)\n",
      "Requirement already satisfied: termcolor>=1.1.0 in /Users/erlandekh/Library/Python/3.9/lib/python/site-packages (from great-expectations==0.14.13->hsfs[python]<3.5.0,>=3.4.0->hopsworks) (2.3.0)\n",
      "Requirement already satisfied: nbformat>=5.0 in /Users/erlandekh/Library/Python/3.9/lib/python/site-packages (from great-expectations==0.14.13->hsfs[python]<3.5.0,>=3.4.0->hopsworks) (5.7.0)\n",
      "Requirement already satisfied: packaging in /Users/erlandekh/Library/Python/3.9/lib/python/site-packages (from great-expectations==0.14.13->hsfs[python]<3.5.0,>=3.4.0->hopsworks) (22.0)\n",
      "Requirement already satisfied: idna<4,>=2.5 in /Users/erlandekh/Library/Python/3.9/lib/python/site-packages (from requests->hopsworks) (3.4)\n",
      "Requirement already satisfied: certifi>=2017.4.17 in /Users/erlandekh/Library/Python/3.9/lib/python/site-packages (from requests->hopsworks) (2023.11.17)\n",
      "Requirement already satisfied: charset-normalizer<4,>=2 in /Users/erlandekh/Library/Python/3.9/lib/python/site-packages (from requests->hopsworks) (3.3.2)\n",
      "Requirement already satisfied: jmespath<2.0.0,>=0.7.1 in /Users/erlandekh/Library/Python/3.9/lib/python/site-packages (from boto3->hopsworks) (1.0.1)\n",
      "Requirement already satisfied: botocore<1.33.0,>=1.32.3 in /Users/erlandekh/Library/Python/3.9/lib/python/site-packages (from boto3->hopsworks) (1.32.3)\n",
      "Requirement already satisfied: s3transfer<0.8.0,>=0.7.0 in /Users/erlandekh/Library/Python/3.9/lib/python/site-packages (from boto3->hopsworks) (0.7.0)\n",
      "Requirement already satisfied: orderedmultidict>=1.0.1 in /Users/erlandekh/Library/Python/3.9/lib/python/site-packages (from furl->hopsworks) (1.0.1)\n",
      "Requirement already satisfied: six>=1.8.0 in /Library/Developer/CommandLineTools/Library/Frameworks/Python3.framework/Versions/3.9/lib/python3.9/site-packages (from furl->hopsworks) (1.15.0)\n",
      "Requirement already satisfied: pyasn1>=0.3.5 in /Users/erlandekh/Library/Python/3.9/lib/python/site-packages (from pyjks->hopsworks) (0.5.0)\n",
      "Requirement already satisfied: pyasn1-modules in /Users/erlandekh/Library/Python/3.9/lib/python/site-packages (from pyjks->hopsworks) (0.3.0)\n",
      "Requirement already satisfied: javaobj-py3 in /Users/erlandekh/Library/Python/3.9/lib/python/site-packages (from pyjks->hopsworks) (0.4.3)\n",
      "Requirement already satisfied: pycryptodomex in /Users/erlandekh/Library/Python/3.9/lib/python/site-packages (from pyjks->hopsworks) (3.19.0)\n",
      "Requirement already satisfied: twofish in /Users/erlandekh/Library/Python/3.9/lib/python/site-packages (from pyjks->hopsworks) (0.3.0)\n",
      "Requirement already satisfied: future in /Library/Developer/CommandLineTools/Library/Frameworks/Python3.framework/Versions/3.9/lib/python3.9/site-packages (from pyhopshive[thrift]->hsfs[python]<3.5.0,>=3.4.0->hopsworks) (0.18.2)\n",
      "Requirement already satisfied: thrift>=0.10.0 in /Users/erlandekh/Library/Python/3.9/lib/python/site-packages (from pyhopshive[thrift]->hsfs[python]<3.5.0,>=3.4.0->hopsworks) (0.16.0)\n",
      "Requirement already satisfied: entrypoints in /Users/erlandekh/Library/Python/3.9/lib/python/site-packages (from altair<5,>=4.0.0->great-expectations==0.14.13->hsfs[python]<3.5.0,>=3.4.0->hopsworks) (0.4)\n",
      "Requirement already satisfied: toolz in /Users/erlandekh/Library/Python/3.9/lib/python/site-packages (from altair<5,>=4.0.0->great-expectations==0.14.13->hsfs[python]<3.5.0,>=3.4.0->hopsworks) (0.12.0)\n",
      "Requirement already satisfied: cffi>=1.12 in /Users/erlandekh/Library/Python/3.9/lib/python/site-packages (from cryptography>=3.2->great-expectations==0.14.13->hsfs[python]<3.5.0,>=3.4.0->hopsworks) (1.15.1)\n",
      "Requirement already satisfied: zipp>=0.5 in /Users/erlandekh/Library/Python/3.9/lib/python/site-packages (from importlib-metadata>=1.7.0->great-expectations==0.14.13->hsfs[python]<3.5.0,>=3.4.0->hopsworks) (3.11.0)\n",
      "Requirement already satisfied: decorator in /Users/erlandekh/Library/Python/3.9/lib/python/site-packages (from Ipython>=7.16.3->great-expectations==0.14.13->hsfs[python]<3.5.0,>=3.4.0->hopsworks) (5.1.1)\n",
      "Requirement already satisfied: pygments>=2.4.0 in /Users/erlandekh/Library/Python/3.9/lib/python/site-packages (from Ipython>=7.16.3->great-expectations==0.14.13->hsfs[python]<3.5.0,>=3.4.0->hopsworks) (2.13.0)\n",
      "Requirement already satisfied: pickleshare in /Users/erlandekh/Library/Python/3.9/lib/python/site-packages (from Ipython>=7.16.3->great-expectations==0.14.13->hsfs[python]<3.5.0,>=3.4.0->hopsworks) (0.7.5)\n",
      "Requirement already satisfied: backcall in /Users/erlandekh/Library/Python/3.9/lib/python/site-packages (from Ipython>=7.16.3->great-expectations==0.14.13->hsfs[python]<3.5.0,>=3.4.0->hopsworks) (0.2.0)\n",
      "Requirement already satisfied: jedi>=0.16 in /Users/erlandekh/Library/Python/3.9/lib/python/site-packages (from Ipython>=7.16.3->great-expectations==0.14.13->hsfs[python]<3.5.0,>=3.4.0->hopsworks) (0.18.2)\n",
      "Requirement already satisfied: traitlets>=5 in /Users/erlandekh/Library/Python/3.9/lib/python/site-packages (from Ipython>=7.16.3->great-expectations==0.14.13->hsfs[python]<3.5.0,>=3.4.0->hopsworks) (5.7.1)\n",
      "Requirement already satisfied: pexpect>4.3 in /Users/erlandekh/Library/Python/3.9/lib/python/site-packages (from Ipython>=7.16.3->great-expectations==0.14.13->hsfs[python]<3.5.0,>=3.4.0->hopsworks) (4.8.0)\n",
      "Requirement already satisfied: prompt-toolkit<3.1.0,>=3.0.11 in /Users/erlandekh/Library/Python/3.9/lib/python/site-packages (from Ipython>=7.16.3->great-expectations==0.14.13->hsfs[python]<3.5.0,>=3.4.0->hopsworks) (3.0.36)\n",
      "Requirement already satisfied: stack-data in /Users/erlandekh/Library/Python/3.9/lib/python/site-packages (from Ipython>=7.16.3->great-expectations==0.14.13->hsfs[python]<3.5.0,>=3.4.0->hopsworks) (0.6.2)\n",
      "Requirement already satisfied: appnope in /Users/erlandekh/Library/Python/3.9/lib/python/site-packages (from Ipython>=7.16.3->great-expectations==0.14.13->hsfs[python]<3.5.0,>=3.4.0->hopsworks) (0.1.3)\n",
      "Requirement already satisfied: matplotlib-inline in /Users/erlandekh/Library/Python/3.9/lib/python/site-packages (from Ipython>=7.16.3->great-expectations==0.14.13->hsfs[python]<3.5.0,>=3.4.0->hopsworks) (0.1.6)\n",
      "Requirement already satisfied: jsonpointer>=1.9 in /Users/erlandekh/Library/Python/3.9/lib/python/site-packages (from jsonpatch>=1.22->great-expectations==0.14.13->hsfs[python]<3.5.0,>=3.4.0->hopsworks) (2.3)\n",
      "Requirement already satisfied: attrs>=17.4.0 in /Users/erlandekh/Library/Python/3.9/lib/python/site-packages (from jsonschema>=2.5.1->great-expectations==0.14.13->hsfs[python]<3.5.0,>=3.4.0->hopsworks) (23.2.0)\n",
      "Requirement already satisfied: pyrsistent!=0.17.0,!=0.17.1,!=0.17.2,>=0.14.0 in /Users/erlandekh/Library/Python/3.9/lib/python/site-packages (from jsonschema>=2.5.1->great-expectations==0.14.13->hsfs[python]<3.5.0,>=3.4.0->hopsworks) (0.19.2)\n",
      "Requirement already satisfied: fastjsonschema in /Users/erlandekh/Library/Python/3.9/lib/python/site-packages (from nbformat>=5.0->great-expectations==0.14.13->hsfs[python]<3.5.0,>=3.4.0->hopsworks) (2.16.2)\n",
      "Requirement already satisfied: jupyter-core in /Users/erlandekh/Library/Python/3.9/lib/python/site-packages (from nbformat>=5.0->great-expectations==0.14.13->hsfs[python]<3.5.0,>=3.4.0->hopsworks) (5.1.0)\n",
      "Requirement already satisfied: ruamel.yaml.clib>=0.1.2 in /Users/erlandekh/Library/Python/3.9/lib/python/site-packages (from ruamel.yaml<0.17.18,>=0.16->great-expectations==0.14.13->hsfs[python]<3.5.0,>=3.4.0->hopsworks) (0.2.8)\n",
      "Requirement already satisfied: pycparser in /Users/erlandekh/Library/Python/3.9/lib/python/site-packages (from cffi>=1.12->cryptography>=3.2->great-expectations==0.14.13->hsfs[python]<3.5.0,>=3.4.0->hopsworks) (2.21)\n",
      "Requirement already satisfied: parso<0.9.0,>=0.8.0 in /Users/erlandekh/Library/Python/3.9/lib/python/site-packages (from jedi>=0.16->Ipython>=7.16.3->great-expectations==0.14.13->hsfs[python]<3.5.0,>=3.4.0->hopsworks) (0.8.3)\n",
      "Requirement already satisfied: ptyprocess>=0.5 in /Users/erlandekh/Library/Python/3.9/lib/python/site-packages (from pexpect>4.3->Ipython>=7.16.3->great-expectations==0.14.13->hsfs[python]<3.5.0,>=3.4.0->hopsworks) (0.7.0)\n",
      "Requirement already satisfied: wcwidth in /Users/erlandekh/Library/Python/3.9/lib/python/site-packages (from prompt-toolkit<3.1.0,>=3.0.11->Ipython>=7.16.3->great-expectations==0.14.13->hsfs[python]<3.5.0,>=3.4.0->hopsworks) (0.2.5)\n",
      "Requirement already satisfied: platformdirs>=2.5 in /Users/erlandekh/Library/Python/3.9/lib/python/site-packages (from jupyter-core->nbformat>=5.0->great-expectations==0.14.13->hsfs[python]<3.5.0,>=3.4.0->hopsworks) (2.6.0)\n",
      "Requirement already satisfied: asttokens>=2.1.0 in /Users/erlandekh/Library/Python/3.9/lib/python/site-packages (from stack-data->Ipython>=7.16.3->great-expectations==0.14.13->hsfs[python]<3.5.0,>=3.4.0->hopsworks) (2.2.1)\n",
      "Requirement already satisfied: pure-eval in /Users/erlandekh/Library/Python/3.9/lib/python/site-packages (from stack-data->Ipython>=7.16.3->great-expectations==0.14.13->hsfs[python]<3.5.0,>=3.4.0->hopsworks) (0.2.2)\n",
      "Requirement already satisfied: executing>=1.2.0 in /Users/erlandekh/Library/Python/3.9/lib/python/site-packages (from stack-data->Ipython>=7.16.3->great-expectations==0.14.13->hsfs[python]<3.5.0,>=3.4.0->hopsworks) (1.2.0)\n",
      "\n",
      "\u001b[1m[\u001b[0m\u001b[34;49mnotice\u001b[0m\u001b[1;39;49m]\u001b[0m\u001b[39;49m A new release of pip is available: \u001b[0m\u001b[31;49m23.0\u001b[0m\u001b[39;49m -> \u001b[0m\u001b[32;49m23.3.2\u001b[0m\n",
      "\u001b[1m[\u001b[0m\u001b[34;49mnotice\u001b[0m\u001b[1;39;49m]\u001b[0m\u001b[39;49m To update, run: \u001b[0m\u001b[32;49m/Library/Developer/CommandLineTools/usr/bin/python3 -m pip install --upgrade pip\u001b[0m\n"
     ]
    }
   ],
   "source": [
    "!pip install hopsworks --upgrade"
   ]
  },
  {
   "cell_type": "code",
   "execution_count": 24,
   "metadata": {
    "colab": {
     "base_uri": "https://localhost:8080/",
     "height": 355
    },
    "id": "jfQJ9aifGAT6",
    "outputId": "34d6b1e0-b7cf-42d7-864e-c89ff4392d11"
   },
   "outputs": [
    {
     "name": "stdout",
     "output_type": "stream",
     "text": [
      "Connection closed.\n",
      "Connected. Call `.close()` to terminate connection gracefully.\n",
      "\n",
      "Logged in to project, explore it here https://c.app.hopsworks.ai:443/p/361623\n",
      "Connected. Call `.close()` to terminate connection gracefully.\n"
     ]
    }
   ],
   "source": [
    "import hopsworks\n",
    "from settings import *\n",
    "project = hopsworks.login(project=SETTINGS[\"FS_PROJECT_NAME\"], api_key_value=SETTINGS[\"FS_API_KEY\"])\n",
    "fs = project.get_feature_store()"
   ]
  },
  {
   "cell_type": "code",
   "execution_count": 25,
   "metadata": {
    "id": "jKCGGtVhmjmT"
   },
   "outputs": [
    {
     "data": {
      "application/vnd.jupyter.widget-view+json": {
       "model_id": "ac678699477f4b0baa2678b40ca7247b",
       "version_major": 2,
       "version_minor": 0
      },
      "text/plain": [
       "Uploading Dataframe: 0.00% |          | Rows 0/5454 | Elapsed Time: 00:00 | Remaining Time: ?"
      ]
     },
     "metadata": {},
     "output_type": "display_data"
    },
    {
     "name": "stdout",
     "output_type": "stream",
     "text": [
      "Launching job: weather_1_offline_fg_materialization\n",
      "Job started successfully, you can follow the progress at \n",
      "https://c.app.hopsworks.ai/p/361623/jobs/named/weather_1_offline_fg_materialization/executions\n"
     ]
    },
    {
     "data": {
      "text/plain": [
       "(<hsfs.core.job.Job at 0x2ac713d60>, None)"
      ]
     },
     "execution_count": 25,
     "metadata": {},
     "output_type": "execute_result"
    }
   ],
   "source": [
    "weather_fg = fs.get_or_create_feature_group(\n",
    "    name=\"weather\",\n",
    "    version=1,\n",
    "    primary_key=[\"temperature_2m_mean\",\t\"sunshine_duration\",\t\"precipitation_sum\",\t\"precipitation_hours\",\t\"wind_speed_10m_max\"],\n",
    "    description=\"England/Wales weather dataset for time period 2009-2023\")\n",
    "weather_fg.insert(final_df)"
   ]
  }
 ],
 "metadata": {
  "accelerator": "GPU",
  "colab": {
   "gpuType": "T4",
   "provenance": []
  },
  "kernelspec": {
   "display_name": "Python 3 (ipykernel)",
   "language": "python",
   "name": "python3"
  },
  "language_info": {
   "codemirror_mode": {
    "name": "ipython",
    "version": 3
   },
   "file_extension": ".py",
   "mimetype": "text/x-python",
   "name": "python",
   "nbconvert_exporter": "python",
   "pygments_lexer": "ipython3",
   "version": "3.9.6"
  }
 },
 "nbformat": 4,
 "nbformat_minor": 4
}
